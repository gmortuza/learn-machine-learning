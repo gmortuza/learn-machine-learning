{
 "cells": [
  {
   "cell_type": "code",
   "execution_count": 1,
   "metadata": {},
   "outputs": [],
   "source": [
    "import numpy as np\n",
    "x = np.random.randint(low=0, high = 100, size=10)\n",
    "y = np.random.randint(low=0, high = 100, size = 10)"
   ]
  },
  {
   "cell_type": "markdown",
   "metadata": {},
   "source": [
    "<h3>Vector/ Unit Vector </h3>\n",
    "In physics vector quantity has both magnitude and directions. In Machine Learning they are nothing but collection of features that define the sample. So it's also called the feature vector in machine learning. A vector which have a single column $ x = \\left(\\begin{smallmatrix}a \\\\ b\\end{smallmatrix}\\right) $ is called column vector. And which have single row $ x' =  \\left(\\begin{smallmatrix}a & b\\end{smallmatrix}\\right)$  is called row vector. </br>\n",
    "<strong>Unit vector: </strong> A unit vector is a vector of length 1, sometimes also called a direction vector (Jeffreys and Jeffreys 1988). The unit vector $ \\hat{v} $ having the same direction as a given (nonzero) vector v is defined by $ \\hat{v} = \\frac{\\vec{v}}{|v|} $\n",
    "\n",
    "\n"
   ]
  },
  {
   "cell_type": "code",
   "execution_count": 11,
   "metadata": {},
   "outputs": [
    {
     "data": {
      "text/plain": [
       "array([0.25771152, 0.4135371 , 0.46747672, 0.49144988, 0.2037719 ,\n",
       "       0.37757735, 0.07791279, 0.29966456, 0.0719195 , 0.13185241])"
      ]
     },
     "execution_count": 11,
     "metadata": {},
     "output_type": "execute_result"
    }
   ],
   "source": [
    "#Finidng Unit vector. There is no built infunction in numpy to find unit vecotr.\n",
    "# However we can get the unit vector by dividing it's lenght\n",
    "unit_vector = x / np.linalg.norm(x)\n",
    "unit_vector"
   ]
  },
  {
   "cell_type": "markdown",
   "metadata": {},
   "source": [
    "<h3>Cosine similarity </h3>\n",
    "It's the measure of similarity between two non-zero vectors of an inner product space that measures the cosine of the angle between them. Smaller the angle is more similar the vectors are.It's the judgment of orientation and not magnitude. Magnitude is calculated by euclidean distance.</br>\n",
    "Cosine similarity is generally used as a metric for measuring distance when the magnitude of the vectors does not matter.\n",
    "\\begin{equation}\n",
    "\\theta(A, B) = \\frac{\\vec{A}.\\vec{B}}{\\| \\mathbf{A} \\|\\| \\mathbf{B} \\|}\n",
    "\\end{equation}"
   ]
  },
  {
   "cell_type": "code",
   "execution_count": 16,
   "metadata": {},
   "outputs": [
    {
     "data": {
      "text/plain": [
       "19928.01326712697"
      ]
     },
     "execution_count": 16,
     "metadata": {},
     "output_type": "execute_result"
    }
   ],
   "source": [
    "# Calculating cosine similarity\n",
    "# There is no builtin funciton in numpy for calculating that\n",
    "cosine = np.dot(x, y) / np.linalg.norm(x) * np.linalg.norm(y)\n",
    "cosine"
   ]
  },
  {
   "cell_type": "markdown",
   "metadata": {},
   "source": [
    "<h3> Euclidean distance</h3>\n",
    "The Euclidean distance between points p and q is the length of the line segment connecting them ($ \\overline{pq} $)\n",
    "\n",
    "\\begin{equation}\n",
    "d(p,q) = \\sqrt{\\sum_{i=1}^n (p_i - q_i)^2}\n",
    "\\end{equation}"
   ]
  },
  {
   "cell_type": "code",
   "execution_count": 17,
   "metadata": {},
   "outputs": [
    {
     "data": {
      "text/plain": [
       "123.18684994754919"
      ]
     },
     "execution_count": 17,
     "metadata": {},
     "output_type": "execute_result"
    }
   ],
   "source": [
    "# Calculating euclidean distance in numpy\n",
    "euc_dis = np.sqrt(np.sum((x -y) ** 2))\n",
    "euc_dis"
   ]
  },
  {
   "cell_type": "markdown",
   "metadata": {},
   "source": [
    "<h3>Norms </h3>\n",
    "<strong>L1 Norms: </strong> Also known as Manhattan Distance or Taxicab norm. L1 Norm is the sum of the magnitudes of the vectors in a space. <br>\n",
    "<strong>L2 Norms: </strong> Is the most popular norm, also known as the Euclidean norm. It is the shortest distance to go from one point to another. <br>\n",
    "<strong>L-infinity Norms: </strong> It's the maximum magnitude element of the vector. if x = [1, 3, -19] it's L-infinity norm will be 19."
   ]
  },
  {
   "cell_type": "markdown",
   "metadata": {},
   "source": [
    "<h3> Eigenvalue, EigenVector</h3>"
   ]
  },
  {
   "cell_type": "markdown",
   "metadata": {},
   "source": [
    "When a vector will be subjected to a linear transformation then there are some vector that doesn't change it's directions but change or might not change it's magnitude.That particular vector is called the eigen vector. And the value that the vector value scales into is called eigen value. Eigen vectors are orthogonal to each other. Their dot product is zero.\n",
    "\\begin{equation}\n",
    "Au = \\lambda u\n",
    "\\end{equation}"
   ]
  },
  {
   "cell_type": "code",
   "execution_count": 18,
   "metadata": {},
   "outputs": [
    {
     "name": "stdout",
     "output_type": "stream",
     "text": [
      "Eigen value [130.00815863  24.74470513  -2.75286375]\n",
      "Eigen vector [[ 0.78507588  0.88874187  0.6817796 ]\n",
      " [ 0.06125579 -0.05997079 -0.72758536]\n",
      " [ 0.61636319 -0.45446825  0.07613221]]\n"
     ]
    }
   ],
   "source": [
    "b = x[:9]\n",
    "b = b.reshape(3,3)\n",
    "eigen_value, eigen_vector = np.linalg.eig(b)\n",
    "print(f\"Eigen value {eigen_value}\")\n",
    "print(f\"Eigen vector {eigen_vector}\")"
   ]
  },
  {
   "cell_type": "markdown",
   "metadata": {},
   "source": [
    "The variance of variable X along direciton U is $ U^T\\Sigma U $ If the U is the first eigen vector then variance is the maximum"
   ]
  },
  {
   "cell_type": "code",
   "execution_count": null,
   "metadata": {},
   "outputs": [],
   "source": []
  }
 ],
 "metadata": {
  "kernelspec": {
   "display_name": "Python 3",
   "language": "python",
   "name": "python3"
  },
  "language_info": {
   "codemirror_mode": {
    "name": "ipython",
    "version": 3
   },
   "file_extension": ".py",
   "mimetype": "text/x-python",
   "name": "python",
   "nbconvert_exporter": "python",
   "pygments_lexer": "ipython3",
   "version": "3.7.3"
  }
 },
 "nbformat": 4,
 "nbformat_minor": 2
}
