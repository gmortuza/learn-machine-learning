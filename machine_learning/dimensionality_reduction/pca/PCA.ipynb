{
 "cells": [
  {
   "cell_type": "code",
   "execution_count": 251,
   "metadata": {},
   "outputs": [],
   "source": [
    "from sklearn.datasets import make_regression\n",
    "from sklearn.preprocessing import scale, normalize\n",
    "import numpy as np\n",
    "import matplotlib.pyplot as plt\n",
    "%matplotlib inline"
   ]
  },
  {
   "attachments": {
    "n_component_variance.png": {
     "image/png": "[encoded data removed]"
    }
   },
   "cell_type": "markdown",
   "metadata": {},
   "source": [
    "## Why PCA?\n",
    "Principle Component Analysis is an unsupervised Machine Learning algorithm that is used to reduce the dimension of the datasets. Let's consider the dimensionality reduction for the case of MNIST dataset. Each of the individual image of the MNIST dataset is 28x28 = 784 pixel. Not all the pixel of these image provide usefull information. For example, 4 corner pixel of each image is always off. These 4 pixel doesn't provide any usefull information. Even if we remove these 4 pixel we won't lose any significant information but we will reduce the dimension of the data. After reducing these 4 pixel our new dataset have 780 pixel. Infact we can remove more pixel without losing any significant information. Removing these redundant dimensions makes the training process significantly faster.\n",
    "\n",
    "We were able to remove those 4 corner pixels because those pixels values didn't change throughout the image. In other words, there was no variance on those pixels(dimensions). So if we want to remove more dimension we have to find out the dimension where we have the least amount of variance. Figure 2 shows an example of how many dimensions we will need to represent our data completely. If all the dimensions(784) are used then no information is loosed which is obvious. And we are not loosing any significant information until we throughout ~400 dimension. In these ~400 dimension our data varies to little that we can ignore these dimensions. And by ignoring these dimesions our dataset is almost half. And we are only dealing with the dimensions that have the relevant information. Now the quesion is how would we know on which dimension our data vary and which dimension data doesn't vary? And the obvious answare is PCA. PCA will help us identify the most important dimension on the dataset.\n",
    "![n_component_variance.png](attachment:n_component_variance.png)"
   ]
  },
  {
   "cell_type": "markdown",
   "metadata": {},
   "source": [
    "It's hard to visuzalize the 784 dimensions dataset. Our human brain can not even project the data which have more than 3 dimensions. For better visualization purposes let's not work with the MNIST dataset. Instead let's work with the toy dataset which is two dimensions. "
   ]
  },
  {
   "cell_type": "code",
   "execution_count": 399,
   "metadata": {},
   "outputs": [
    {
     "data": {
      "image/png": "[encoded data removed]",
      "text/plain": [
       "<Figure size 432x288 with 1 Axes>"
      ]
     },
     "metadata": {
      "needs_background": "light"
     },
     "output_type": "display_data"
    }
   ],
   "source": [
    "np.random.seed(102)\n",
    "x = np.random.multivariate_normal([0, 0], [[1, .9], [.9, 1]], size=20).T\n",
    "plt.axis('equal')\n",
    "plt.scatter(x[0], x[1], label=\"2D data\")\n",
    "plt.xlabel('X')\n",
    "plt.ylabel('Y')\n",
    "plt.legend()\n",
    "plt.show()"
   ]
  },
  {
   "cell_type": "markdown",
   "metadata": {},
   "source": [
    "We want to convert this 2D data into 1D data by loosing as less information as possible. One possible way might be projecting all the points on the X-axis. And consider the projected points as the new data points. So the point `[-1.875, -1.29]` will become `[-1.875]`. Because the projection on the x-axis is just the X-coordiante value. But in these process we just lost all the information available on y-axis. And if the data is projected on Y-axis then we will loose all the information avaible on X-axis. "
   ]
  },
  {
   "cell_type": "code",
   "execution_count": 401,
   "metadata": {},
   "outputs": [
    {
     "data": {
      "text/plain": [
       "array([[1.41195704, 1.22429704],\n",
       "       [1.22429704, 1.30130837]])"
      ]
     },
     "execution_count": 401,
     "metadata": {},
     "output_type": "execute_result"
    }
   ],
   "source": [
    "np.cov(x)"
   ]
  },
  {
   "cell_type": "code",
   "execution_count": 409,
   "metadata": {},
   "outputs": [
    {
     "ename": "TypeError",
     "evalue": "only integer scalar arrays can be converted to a scalar index",
     "output_type": "error",
     "traceback": [
      "\u001b[0;31m---------------------------------------------------------------------------\u001b[0m",
      "\u001b[0;31mTypeError\u001b[0m                                 Traceback (most recent call last)",
      "\u001b[0;32m<ipython-input-409-b2199c7bff4a>\u001b[0m in \u001b[0;36m<module>\u001b[0;34m\u001b[0m\n\u001b[0;32m----> 1\u001b[0;31m \u001b[0mnp\u001b[0m\u001b[0;34m.\u001b[0m\u001b[0mvar\u001b[0m\u001b[0;34m(\u001b[0m\u001b[0mx\u001b[0m\u001b[0;34m[\u001b[0m\u001b[0;36m0\u001b[0m\u001b[0;34m]\u001b[0m\u001b[0;34m,\u001b[0m \u001b[0mx\u001b[0m\u001b[0;34m[\u001b[0m\u001b[0;36m0\u001b[0m\u001b[0;34m]\u001b[0m\u001b[0;34m)\u001b[0m\u001b[0;34m\u001b[0m\u001b[0;34m\u001b[0m\u001b[0m\n\u001b[0m",
      "\u001b[0;32m<__array_function__ internals>\u001b[0m in \u001b[0;36mvar\u001b[0;34m(*args, **kwargs)\u001b[0m\n",
      "\u001b[0;32m~/anaconda3/envs/ml/lib/python3.7/site-packages/numpy/core/fromnumeric.py\u001b[0m in \u001b[0;36mvar\u001b[0;34m(a, axis, dtype, out, ddof, keepdims)\u001b[0m\n\u001b[1;32m   3582\u001b[0m \u001b[0;34m\u001b[0m\u001b[0m\n\u001b[1;32m   3583\u001b[0m     return _methods._var(a, axis=axis, dtype=dtype, out=out, ddof=ddof,\n\u001b[0;32m-> 3584\u001b[0;31m                          **kwargs)\n\u001b[0m\u001b[1;32m   3585\u001b[0m \u001b[0;34m\u001b[0m\u001b[0m\n\u001b[1;32m   3586\u001b[0m \u001b[0;34m\u001b[0m\u001b[0m\n",
      "\u001b[0;32m~/anaconda3/envs/ml/lib/python3.7/site-packages/numpy/core/_methods.py\u001b[0m in \u001b[0;36m_var\u001b[0;34m(a, axis, dtype, out, ddof, keepdims)\u001b[0m\n\u001b[1;32m    168\u001b[0m     \u001b[0marr\u001b[0m \u001b[0;34m=\u001b[0m \u001b[0masanyarray\u001b[0m\u001b[0;34m(\u001b[0m\u001b[0ma\u001b[0m\u001b[0;34m)\u001b[0m\u001b[0;34m\u001b[0m\u001b[0;34m\u001b[0m\u001b[0m\n\u001b[1;32m    169\u001b[0m \u001b[0;34m\u001b[0m\u001b[0m\n\u001b[0;32m--> 170\u001b[0;31m     \u001b[0mrcount\u001b[0m \u001b[0;34m=\u001b[0m \u001b[0m_count_reduce_items\u001b[0m\u001b[0;34m(\u001b[0m\u001b[0marr\u001b[0m\u001b[0;34m,\u001b[0m \u001b[0maxis\u001b[0m\u001b[0;34m)\u001b[0m\u001b[0;34m\u001b[0m\u001b[0;34m\u001b[0m\u001b[0m\n\u001b[0m\u001b[1;32m    171\u001b[0m     \u001b[0;31m# Make this warning show up on top.\u001b[0m\u001b[0;34m\u001b[0m\u001b[0;34m\u001b[0m\u001b[0;34m\u001b[0m\u001b[0m\n\u001b[1;32m    172\u001b[0m     \u001b[0;32mif\u001b[0m \u001b[0mddof\u001b[0m \u001b[0;34m>=\u001b[0m \u001b[0mrcount\u001b[0m\u001b[0;34m:\u001b[0m\u001b[0;34m\u001b[0m\u001b[0;34m\u001b[0m\u001b[0m\n",
      "\u001b[0;32m~/anaconda3/envs/ml/lib/python3.7/site-packages/numpy/core/_methods.py\u001b[0m in \u001b[0;36m_count_reduce_items\u001b[0;34m(arr, axis)\u001b[0m\n\u001b[1;32m     55\u001b[0m     \u001b[0mitems\u001b[0m \u001b[0;34m=\u001b[0m \u001b[0;36m1\u001b[0m\u001b[0;34m\u001b[0m\u001b[0;34m\u001b[0m\u001b[0m\n\u001b[1;32m     56\u001b[0m     \u001b[0;32mfor\u001b[0m \u001b[0max\u001b[0m \u001b[0;32min\u001b[0m \u001b[0maxis\u001b[0m\u001b[0;34m:\u001b[0m\u001b[0;34m\u001b[0m\u001b[0;34m\u001b[0m\u001b[0m\n\u001b[0;32m---> 57\u001b[0;31m         \u001b[0mitems\u001b[0m \u001b[0;34m*=\u001b[0m \u001b[0marr\u001b[0m\u001b[0;34m.\u001b[0m\u001b[0mshape\u001b[0m\u001b[0;34m[\u001b[0m\u001b[0max\u001b[0m\u001b[0;34m]\u001b[0m\u001b[0;34m\u001b[0m\u001b[0;34m\u001b[0m\u001b[0m\n\u001b[0m\u001b[1;32m     58\u001b[0m     \u001b[0;32mreturn\u001b[0m \u001b[0mitems\u001b[0m\u001b[0;34m\u001b[0m\u001b[0;34m\u001b[0m\u001b[0m\n\u001b[1;32m     59\u001b[0m \u001b[0;34m\u001b[0m\u001b[0m\n",
      "\u001b[0;31mTypeError\u001b[0m: only integer scalar arrays can be converted to a scalar index"
     ]
    }
   ],
   "source": [
    "np.var(x[0], x[0])"
   ]
  },
  {
   "cell_type": "code",
   "execution_count": 299,
   "metadata": {},
   "outputs": [
    {
     "data": {
      "text/plain": [
       "array([[-2.76657624, -1.02069914, -0.51672749,  0.6129334 ,  1.68055536,\n",
       "        -0.31541821,  0.06096433,  0.58333117, -0.8067414 , -2.68838212,\n",
       "        -0.82273587,  1.98508097,  0.00442539, -0.21668425, -0.78932899,\n",
       "        -0.71024988,  0.71005206,  0.74170197, -0.49060678, -0.85730396],\n",
       "       [-2.36931023, -0.70205176, -0.71868195,  0.99617954,  2.14864965,\n",
       "        -0.68793485, -0.4189885 ,  1.18736195,  0.44473462, -2.25609315,\n",
       "         0.24846856,  1.25198948,  0.25141689, -0.09999503, -0.74318524,\n",
       "        -0.50176326,  0.23313651,  1.04828583,  0.71216857,  0.40548982]])"
      ]
     },
     "execution_count": 299,
     "metadata": {},
     "output_type": "execute_result"
    }
   ],
   "source": [
    "x"
   ]
  },
  {
   "cell_type": "markdown",
   "metadata": {},
   "source": [
    "### Linear projection"
   ]
  },
  {
   "cell_type": "markdown",
   "metadata": {},
   "source": [
    "import sklearn.datasets"
   ]
  },
  {
   "cell_type": "code",
   "execution_count": 396,
   "metadata": {},
   "outputs": [],
   "source": [
    "def get_projection(axis=[1, 1], seed=100):\n",
    "    axis = np.array(axis).reshape((1, 2))\n",
    "    axis_normalized = normalize(axis).reshape((1, 2))\n",
    "    np.random.seed(seed)\n",
    "    x = np.random.multivariate_normal([0, 0], [[1, .9], [.9, 1]], size=20).T\n",
    "    plt.scatter(x[0], x[1], label=\"2D data\")\n",
    "    # get projection\n",
    "    projection = axis_normalized.T.dot(axis_normalized.dot(x))\n",
    "    plt.scatter(projection[0], projection[1], marker=\"x\", c='g', label=\"1D data\")\n",
    "    plt.plot([projection[0], x[0]], [projection[1], x[1]], 'r-', lw=1)\n",
    "    plt.axis('equal')\n",
    "    plt.xlabel('X')\n",
    "    plt.ylabel('Y')\n",
    "    # Plotting x axis and y axis\n",
    "    plt.plot(range(-2, 4) * axis_normalized[0][0], range(-2, 4) * axis_normalized[0][1], 'k-', lw=1)\n",
    "    plt.legend()\n",
    "    plt.show()"
   ]
  },
  {
   "cell_type": "code",
   "execution_count": 397,
   "metadata": {
    "scrolled": true
   },
   "outputs": [
    {
     "data": {
      "image/png": "[encoded data removed]",
      "text/plain": [
       "<Figure size 432x288 with 1 Axes>"
      ]
     },
     "metadata": {
      "needs_background": "light"
     },
     "output_type": "display_data"
    }
   ],
   "source": [
    "get_projection(axis=[1, 0], seed=102)"
   ]
  },
  {
   "cell_type": "code",
   "execution_count": 360,
   "metadata": {},
   "outputs": [
    {
     "data": {
      "image/png": "[encoded data removed]",
      "text/plain": [
       "<Figure size 432x288 with 1 Axes>"
      ]
     },
     "metadata": {
      "needs_background": "light"
     },
     "output_type": "display_data"
    }
   ],
   "source": [
    "np.random.seed(100)\n",
    "x = np.random.multivariate_normal([0, 0], [[1, .8], [.8, 1]], size=20).T\n",
    "plt.axis('equal')\n",
    "plt.scatter(x[0], x[1])\n",
    "plt.show()"
   ]
  },
  {
   "cell_type": "code",
   "execution_count": 216,
   "metadata": {},
   "outputs": [],
   "source": [
    "from sklearn.datasets import fetch_openml\n",
    "mnist = fetch_openml('mnist_784')\n",
    "x = mnist.data"
   ]
  },
  {
   "cell_type": "code",
   "execution_count": 227,
   "metadata": {},
   "outputs": [],
   "source": [
    "from sklearn.preprocessing import normalize\n",
    "import matplotlib.pyplot as plt\n",
    "from sklearn.decomposition import PCA\n",
    "x = normalize(x)\n",
    "pca = PCA()\n",
    "pca_data = pca.fit_transform(x)"
   ]
  },
  {
   "cell_type": "code",
   "execution_count": 228,
   "metadata": {},
   "outputs": [],
   "source": [
    "percentage_var_explained = pca.explained_variance_ / np.sum(pca.explained_variance_)\n",
    "cum_var_explained = np.cumsum(percentage_var_explained)"
   ]
  },
  {
   "cell_type": "code",
   "execution_count": 241,
   "metadata": {},
   "outputs": [
    {
     "data": {
      "image/png": "[encoded data removed]",
      "text/plain": [
       "<Figure size 432x288 with 1 Axes>"
      ]
     },
     "metadata": {
      "needs_background": "light"
     },
     "output_type": "display_data"
    }
   ],
   "source": [
    "plt.plot(cum_var_explained, linewidth=1)\n",
    "plt.xlabel('n_components')\n",
    "plt.ylabel('Cumulative_explained_variance')\n",
    "plt.show()"
   ]
  },
  {
   "cell_type": "code",
   "execution_count": 246,
   "metadata": {},
   "outputs": [
    {
     "data": {
      "image/png": "[encoded data removed]",
      "text/plain": [
       "<Figure size 432x288 with 1 Axes>"
      ]
     },
     "metadata": {
      "needs_background": "light"
     },
     "output_type": "display_data"
    }
   ],
   "source": [
    "plt.plot(np.cumsum(pca.explained_variance_ratio_), linewidth=1)\n",
    "plt.grid()\n",
    "plt.xlabel('number of dimensions')\n",
    "plt.ylabel('Cumulative explained variance')\n",
    "plt.show()"
   ]
  },
  {
   "cell_type": "code",
   "execution_count": 247,
   "metadata": {},
   "outputs": [
    {
     "data": {
      "text/plain": [
       "array([0.09412583, 0.16734156, 0.22602708, 0.27567637, 0.32222501,\n",
       "       0.36309903, 0.39398374, 0.42261568, 0.44761319, 0.47075055,\n",
       "       0.49210317, 0.51138214, 0.52884589, 0.54517984, 0.56038665,\n",
       "       0.5748189 , 0.58780812, 0.60028992, 0.61209286, 0.62315569,\n",
       "       0.63361993, 0.64370222, 0.65337876, 0.6626639 , 0.67178727,\n",
       "       0.68057348, 0.68861946, 0.69658743, 0.70416074, 0.71153487,\n",
       "       0.71845974, 0.72522828, 0.73145203, 0.73738248, 0.74321955,\n",
       "       0.74893311, 0.75431368, 0.75963573, 0.76472087, 0.7696761 ,\n",
       "       0.77442377, 0.77905579, 0.78344447, 0.7877065 , 0.79189954,\n",
       "       0.79603811, 0.79993558, 0.80367023, 0.8073251 , 0.81071456,\n",
       "       0.81406227, 0.8173644 , 0.82054153, 0.82363098, 0.82666784,\n",
       "       0.8296203 , 0.83251858, 0.8353293 , 0.83806716, 0.84071571,\n",
       "       0.84330883, 0.84586471, 0.84835657, 0.85076268, 0.8531224 ,\n",
       "       0.85541002, 0.85762546, 0.85977709, 0.86187103, 0.86394892,\n",
       "       0.86592939, 0.86788861, 0.86979492, 0.87167454, 0.87347872,\n",
       "       0.87524741, 0.87697942, 0.87867187, 0.88030721, 0.88191011,\n",
       "       0.88346733, 0.88501311, 0.88654049, 0.88802021, 0.88947944,\n",
       "       0.89092791, 0.89234041, 0.89370775, 0.89506797, 0.8963668 ,\n",
       "       0.89765641, 0.89891149, 0.90014502, 0.90136134, 0.90257063,\n",
       "       0.90376137, 0.90490786, 0.90604094, 0.90715404, 0.9082411 ,\n",
       "       0.9093142 , 0.91035026, 0.91138096, 0.91237927, 0.91335302,\n",
       "       0.91431994, 0.91527296, 0.9162057 , 0.91712528, 0.91802628,\n",
       "       0.91890503, 0.91977866, 0.92064467, 0.92150355, 0.92235516,\n",
       "       0.92317734, 0.92398449, 0.92478684, 0.92556877, 0.92634706,\n",
       "       0.92710884, 0.9278651 , 0.92861756, 0.9293623 , 0.93008661,\n",
       "       0.93080214, 0.9315017 , 0.93219881, 0.93287838, 0.9335529 ,\n",
       "       0.93421568, 0.9348692 , 0.93551426, 0.93615453, 0.93678274,\n",
       "       0.93740145, 0.93801623, 0.93862758, 0.93922592, 0.9398101 ,\n",
       "       0.94038166, 0.94093985, 0.94149665, 0.94204295, 0.94258267,\n",
       "       0.94311961, 0.94364972, 0.94417827, 0.94470137, 0.94522269,\n",
       "       0.94573712, 0.94624728, 0.94675046, 0.94724845, 0.94774032,\n",
       "       0.94822946, 0.94871219, 0.9491846 , 0.94965303, 0.95011748,\n",
       "       0.95057352, 0.95102426, 0.95146899, 0.95190324, 0.95233519,\n",
       "       0.95276484, 0.95318911, 0.95360973, 0.95402808, 0.95444296,\n",
       "       0.95485247, 0.95525861, 0.95566126, 0.95606   , 0.95645065,\n",
       "       0.95683371, 0.9572107 , 0.9575848 , 0.95795304, 0.95831755,\n",
       "       0.95868136, 0.95904104, 0.95939906, 0.95975468, 0.96010828,\n",
       "       0.96045912, 0.96080469, 0.96114755, 0.96148706, 0.96182603,\n",
       "       0.96216227, 0.9624935 , 0.96282426, 0.96315285, 0.96347641,\n",
       "       0.96379895, 0.96411943, 0.96443802, 0.9647495 , 0.96505899,\n",
       "       0.96536531, 0.96566846, 0.96596627, 0.96626044, 0.96655277,\n",
       "       0.96684379, 0.96713147, 0.96741623, 0.96769893, 0.96798004,\n",
       "       0.96826066, 0.9685398 , 0.96881446, 0.96908835, 0.96936148,\n",
       "       0.96963189, 0.96989827, 0.9701633 , 0.97042687, 0.97068833,\n",
       "       0.97094846, 0.97120451, 0.97145719, 0.97170952, 0.9719607 ,\n",
       "       0.97220928, 0.97245656, 0.97270156, 0.97294291, 0.97318354,\n",
       "       0.97342242, 0.97365766, 0.97389186, 0.97412343, 0.97435441,\n",
       "       0.97458149, 0.97480677, 0.97503068, 0.9752529 , 0.97547392,\n",
       "       0.97569229, 0.97590881, 0.97612381, 0.97633812, 0.97654963,\n",
       "       0.9767599 , 0.97696784, 0.9771749 , 0.97737848, 0.97758193,\n",
       "       0.97778449, 0.9779863 , 0.97818558, 0.9783831 , 0.97858   ,\n",
       "       0.97877589, 0.97896907, 0.97916118, 0.97935163, 0.97953962,\n",
       "       0.97972732, 0.97991365, 0.98009902, 0.98028274, 0.98046489,\n",
       "       0.98064659, 0.98082707, 0.98100557, 0.98118225, 0.98135773,\n",
       "       0.98153011, 0.98170135, 0.98187234, 0.98204224, 0.98221097,\n",
       "       0.98237789, 0.98254432, 0.98270918, 0.98287343, 0.98303623,\n",
       "       0.9831981 , 0.98335924, 0.98351999, 0.98367846, 0.98383633,\n",
       "       0.9839923 , 0.98414808, 0.98430334, 0.98445673, 0.98460856,\n",
       "       0.98475966, 0.98490995, 0.98505962, 0.9852085 , 0.98535628,\n",
       "       0.98550316, 0.98564846, 0.98579168, 0.98593422, 0.9860757 ,\n",
       "       0.98621611, 0.98635585, 0.98649436, 0.98663256, 0.98676971,\n",
       "       0.98690485, 0.98703978, 0.98717304, 0.98730575, 0.98743708,\n",
       "       0.98756798, 0.98769845, 0.98782755, 0.98795515, 0.98808144,\n",
       "       0.988207  , 0.9883321 , 0.98845619, 0.98857903, 0.98870079,\n",
       "       0.98882175, 0.98894217, 0.98906135, 0.98917987, 0.98929763,\n",
       "       0.98941365, 0.98952862, 0.98964267, 0.98975621, 0.98986858,\n",
       "       0.98998054, 0.99009177, 0.99020206, 0.99031208, 0.99042117,\n",
       "       0.99052908, 0.9906367 , 0.99074345, 0.99084989, 0.99095581,\n",
       "       0.99106107, 0.99116616, 0.99126975, 0.99137257, 0.99147492,\n",
       "       0.99157719, 0.99167903, 0.99177944, 0.99187796, 0.99197585,\n",
       "       0.99207173, 0.99216723, 0.99226187, 0.99235541, 0.99244772,\n",
       "       0.99253975, 0.9926314 , 0.99272229, 0.99281306, 0.99290326,\n",
       "       0.99299296, 0.99308168, 0.99316922, 0.99325493, 0.99334013,\n",
       "       0.99342479, 0.9935083 , 0.99359164, 0.9936747 , 0.99375652,\n",
       "       0.99383766, 0.99391769, 0.99399646, 0.99407476, 0.99415279,\n",
       "       0.99423038, 0.9943065 , 0.99438241, 0.99445809, 0.99453239,\n",
       "       0.99460612, 0.99467898, 0.99475017, 0.99482061, 0.99489037,\n",
       "       0.99495929, 0.99502753, 0.99509547, 0.99516219, 0.99522834,\n",
       "       0.99529416, 0.99535946, 0.99542388, 0.99548807, 0.9955508 ,\n",
       "       0.99561326, 0.9956742 , 0.9957349 , 0.99579466, 0.99585408,\n",
       "       0.9959129 , 0.99597127, 0.99602869, 0.99608548, 0.99614192,\n",
       "       0.99619783, 0.99625329, 0.99630746, 0.99636054, 0.99641356,\n",
       "       0.99646613, 0.99651819, 0.99656956, 0.99662059, 0.99667104,\n",
       "       0.99672141, 0.99677137, 0.99682095, 0.9968696 , 0.99691816,\n",
       "       0.99696508, 0.9970115 , 0.9970573 , 0.99710277, 0.99714774,\n",
       "       0.9971926 , 0.99723653, 0.99727971, 0.99732227, 0.99736368,\n",
       "       0.99740451, 0.99744471, 0.99748477, 0.99752418, 0.99756354,\n",
       "       0.99760239, 0.99764008, 0.99767764, 0.99771446, 0.99775115,\n",
       "       0.99778777, 0.99782325, 0.99785858, 0.99789347, 0.99792801,\n",
       "       0.99796223, 0.99799574, 0.99802849, 0.99806099, 0.99809281,\n",
       "       0.99812436, 0.99815565, 0.99818582, 0.99821578, 0.99824556,\n",
       "       0.99827505, 0.998304  , 0.99833274, 0.99836122, 0.99838916,\n",
       "       0.99841681, 0.99844365, 0.99847015, 0.99849626, 0.99852197,\n",
       "       0.99854756, 0.99857299, 0.99859817, 0.99862292, 0.99864731,\n",
       "       0.9986714 , 0.99869482, 0.9987181 , 0.99874085, 0.9987634 ,\n",
       "       0.99878578, 0.99880809, 0.9988299 , 0.99885131, 0.99887256,\n",
       "       0.99889351, 0.99891391, 0.99893398, 0.99895392, 0.99897369,\n",
       "       0.99899319, 0.99901214, 0.99903092, 0.99904955, 0.99906771,\n",
       "       0.99908582, 0.99910361, 0.99912107, 0.99913845, 0.99915554,\n",
       "       0.99917245, 0.99918867, 0.99920473, 0.99922054, 0.99923594,\n",
       "       0.9992512 , 0.99926624, 0.99928123, 0.99929596, 0.99931047,\n",
       "       0.99932434, 0.99933786, 0.99935115, 0.9993642 , 0.9993771 ,\n",
       "       0.99938987, 0.99940253, 0.99941513, 0.99942746, 0.99943968,\n",
       "       0.99945174, 0.99946346, 0.99947507, 0.99948656, 0.99949797,\n",
       "       0.99950901, 0.99951989, 0.99953044, 0.99954092, 0.99955132,\n",
       "       0.99956143, 0.99957141, 0.99958124, 0.99959106, 0.9996005 ,\n",
       "       0.99960974, 0.99961873, 0.99962762, 0.99963626, 0.99964479,\n",
       "       0.99965326, 0.99966167, 0.99966982, 0.99967774, 0.99968552,\n",
       "       0.99969324, 0.99970087, 0.99970837, 0.9997158 , 0.99972306,\n",
       "       0.99973019, 0.99973717, 0.99974406, 0.99975068, 0.9997573 ,\n",
       "       0.99976361, 0.99976983, 0.99977576, 0.99978159, 0.99978733,\n",
       "       0.99979297, 0.9997985 , 0.99980388, 0.99980893, 0.99981386,\n",
       "       0.99981868, 0.99982347, 0.99982815, 0.9998327 , 0.99983713,\n",
       "       0.99984152, 0.99984586, 0.99985014, 0.9998544 , 0.99985855,\n",
       "       0.99986264, 0.99986668, 0.99987063, 0.99987446, 0.99987811,\n",
       "       0.99988168, 0.99988516, 0.99988861, 0.99989202, 0.99989538,\n",
       "       0.99989871, 0.99990187, 0.99990483, 0.99990777, 0.9999107 ,\n",
       "       0.9999136 , 0.99991627, 0.99991892, 0.99992141, 0.99992382,\n",
       "       0.99992621, 0.99992855, 0.99993079, 0.99993301, 0.99993515,\n",
       "       0.99993718, 0.99993919, 0.99994117, 0.99994313, 0.99994507,\n",
       "       0.99994698, 0.99994883, 0.99995064, 0.99995232, 0.999954  ,\n",
       "       0.99995564, 0.99995721, 0.99995877, 0.99996017, 0.99996154,\n",
       "       0.9999629 , 0.99996423, 0.99996555, 0.99996685, 0.99996803,\n",
       "       0.99996921, 0.99997037, 0.99997145, 0.99997251, 0.99997354,\n",
       "       0.99997457, 0.99997557, 0.99997656, 0.99997754, 0.99997847,\n",
       "       0.99997932, 0.99998014, 0.99998094, 0.99998173, 0.9999825 ,\n",
       "       0.99998326, 0.999984  , 0.99998473, 0.99998545, 0.99998615,\n",
       "       0.99998682, 0.99998747, 0.9999881 , 0.99998872, 0.99998932,\n",
       "       0.99998991, 0.99999044, 0.99999096, 0.99999146, 0.99999189,\n",
       "       0.99999232, 0.99999273, 0.99999314, 0.99999354, 0.99999392,\n",
       "       0.99999427, 0.99999459, 0.99999491, 0.99999521, 0.9999955 ,\n",
       "       0.99999579, 0.99999606, 0.9999963 , 0.99999655, 0.99999678,\n",
       "       0.99999699, 0.99999718, 0.99999737, 0.99999755, 0.99999772,\n",
       "       0.99999787, 0.99999802, 0.99999816, 0.99999829, 0.99999842,\n",
       "       0.99999854, 0.99999866, 0.99999878, 0.99999889, 0.999999  ,\n",
       "       0.9999991 , 0.99999919, 0.99999926, 0.99999933, 0.99999939,\n",
       "       0.99999945, 0.99999951, 0.99999956, 0.99999961, 0.99999966,\n",
       "       0.99999969, 0.99999973, 0.99999977, 0.9999998 , 0.99999982,\n",
       "       0.99999985, 0.99999986, 0.99999988, 0.9999999 , 0.99999991,\n",
       "       0.99999992, 0.99999994, 0.99999995, 0.99999996, 0.99999996,\n",
       "       0.99999997, 0.99999998, 0.99999998, 0.99999999, 0.99999999,\n",
       "       1.        , 1.        , 1.        , 1.        , 1.        ,\n",
       "       1.        , 1.        , 1.        , 1.        , 1.        ,\n",
       "       1.        , 1.        , 1.        , 1.        , 1.        ,\n",
       "       1.        , 1.        , 1.        , 1.        , 1.        ,\n",
       "       1.        , 1.        , 1.        , 1.        , 1.        ,\n",
       "       1.        , 1.        , 1.        , 1.        , 1.        ,\n",
       "       1.        , 1.        , 1.        , 1.        , 1.        ,\n",
       "       1.        , 1.        , 1.        , 1.        , 1.        ,\n",
       "       1.        , 1.        , 1.        , 1.        , 1.        ,\n",
       "       1.        , 1.        , 1.        , 1.        , 1.        ,\n",
       "       1.        , 1.        , 1.        , 1.        , 1.        ,\n",
       "       1.        , 1.        , 1.        , 1.        , 1.        ,\n",
       "       1.        , 1.        , 1.        , 1.        , 1.        ,\n",
       "       1.        , 1.        , 1.        , 1.        , 1.        ,\n",
       "       1.        , 1.        , 1.        , 1.        , 1.        ,\n",
       "       1.        , 1.        , 1.        , 1.        ])"
      ]
     },
     "execution_count": 247,
     "metadata": {},
     "output_type": "execute_result"
    }
   ],
   "source": [
    "np.cumsum(pca.explained_variance_ratio_)"
   ]
  },
  {
   "cell_type": "code",
   "execution_count": 248,
   "metadata": {},
   "outputs": [
    {
     "data": {
      "text/plain": [
       "array([9.41258263e-02, 7.32157350e-02, 5.86855182e-02, 4.96492927e-02,\n",
       "       4.65486378e-02, 4.08740160e-02, 3.08847133e-02, 2.86319390e-02,\n",
       "       2.49975166e-02, 2.31373539e-02, 2.13526177e-02, 1.92789746e-02,\n",
       "       1.74637446e-02, 1.63339577e-02, 1.52068042e-02, 1.44322562e-02,\n",
       "       1.29892138e-02, 1.24818045e-02, 1.18029390e-02, 1.10628333e-02,\n",
       "       1.04642341e-02, 1.00822898e-02, 9.67653875e-03, 9.28514748e-03,\n",
       "       9.12336664e-03, 8.78620478e-03, 8.04598151e-03, 7.96796780e-03,\n",
       "       7.57331708e-03, 7.37412778e-03, 6.92487303e-03, 6.76854085e-03,\n",
       "       6.22374095e-03, 5.93045267e-03, 5.83707501e-03, 5.71355261e-03,\n",
       "       5.38057126e-03, 5.32204856e-03, 5.08514237e-03, 4.95523335e-03,\n",
       "       4.74766779e-03, 4.63201759e-03, 4.38868390e-03, 4.26202605e-03,\n",
       "       4.19304232e-03, 4.13857002e-03, 3.89747072e-03, 3.73465320e-03,\n",
       "       3.65486982e-03, 3.38945330e-03, 3.34771386e-03, 3.30213179e-03,\n",
       "       3.17712598e-03, 3.08944862e-03, 3.03686113e-03, 2.95245946e-03,\n",
       "       2.89828840e-03, 2.81071517e-03, 2.73786010e-03, 2.64854819e-03,\n",
       "       2.59312585e-03, 2.55587661e-03, 2.49185425e-03, 2.40611946e-03,\n",
       "       2.35971796e-03, 2.28761382e-03, 2.21544225e-03, 2.15162674e-03,\n",
       "       2.09394068e-03, 2.07789557e-03, 1.98046951e-03, 1.95921657e-03,\n",
       "       1.90631301e-03, 1.87962291e-03, 1.80417207e-03, 1.76868990e-03,\n",
       "       1.73201773e-03, 1.69244499e-03, 1.63533691e-03, 1.60290534e-03,\n",
       "       1.55721534e-03, 1.54578017e-03, 1.52738308e-03, 1.47972095e-03,\n",
       "       1.45923347e-03, 1.44846868e-03, 1.41249893e-03, 1.36733816e-03,\n",
       "       1.36022339e-03, 1.29882553e-03, 1.28961438e-03, 1.25507506e-03,\n",
       "       1.23352992e-03, 1.21632725e-03, 1.20928288e-03, 1.19073869e-03,\n",
       "       1.14648994e-03, 1.13308701e-03, 1.11309278e-03, 1.08705901e-03,\n",
       "       1.07310449e-03, 1.03605877e-03, 1.03069845e-03, 9.98313063e-04,\n",
       "       9.73747516e-04, 9.66918709e-04, 9.53027349e-04, 9.32731809e-04,\n",
       "       9.19585766e-04, 9.01000090e-04, 8.78752075e-04, 8.73626475e-04,\n",
       "       8.66014985e-04, 8.58878317e-04, 8.51605684e-04, 8.22177633e-04,\n",
       "       8.07154610e-04, 8.02348429e-04, 7.81935110e-04, 7.78284331e-04,\n",
       "       7.61783102e-04, 7.56254226e-04, 7.52459353e-04, 7.44745441e-04,\n",
       "       7.24305193e-04, 7.15531472e-04, 6.99566178e-04, 6.97101664e-04,\n",
       "       6.79573041e-04, 6.74522465e-04, 6.62783358e-04, 6.53518200e-04,\n",
       "       6.45062169e-04, 6.40265539e-04, 6.28214064e-04, 6.18701427e-04,\n",
       "       6.14787698e-04, 6.11348009e-04, 5.98340778e-04, 5.84179672e-04,\n",
       "       5.71555684e-04, 5.58193067e-04, 5.56803814e-04, 5.46292292e-04,\n",
       "       5.39726889e-04, 5.36932594e-04, 5.30109828e-04, 5.28552554e-04,\n",
       "       5.23099201e-04, 5.21322323e-04, 5.14432220e-04, 5.10153433e-04,\n",
       "       5.03182308e-04, 4.97994997e-04, 4.91864347e-04, 4.89144430e-04,\n",
       "       4.82728017e-04, 4.72412810e-04, 4.68430564e-04, 4.64450684e-04,\n",
       "       4.56039614e-04, 4.50734575e-04, 4.44732748e-04, 4.34253659e-04,\n",
       "       4.31942713e-04, 4.29653067e-04, 4.24267711e-04, 4.20627090e-04,\n",
       "       4.18347316e-04, 4.14880785e-04, 4.09507269e-04, 4.06143223e-04,\n",
       "       4.02645812e-04, 3.98736528e-04, 3.90658298e-04, 3.83060195e-04,\n",
       "       3.76990239e-04, 3.74096500e-04, 3.68240159e-04, 3.64511304e-04,\n",
       "       3.63809673e-04, 3.59681437e-04, 3.58021032e-04, 3.55610482e-04,\n",
       "       3.53606234e-04, 3.50843187e-04, 3.45561469e-04, 3.42861514e-04,\n",
       "       3.39513940e-04, 3.38970861e-04, 3.36239134e-04, 3.31228027e-04,\n",
       "       3.30760125e-04, 3.28586995e-04, 3.23566813e-04, 3.22531969e-04,\n",
       "       3.20485072e-04, 3.18584960e-04, 3.11485282e-04, 3.09489058e-04,\n",
       "       3.06317762e-04, 3.03147570e-04, 2.97813064e-04, 2.94170861e-04,\n",
       "       2.92333023e-04, 2.91014331e-04, 2.87680310e-04, 2.84761999e-04,\n",
       "       2.82701983e-04, 2.81107844e-04, 2.80620655e-04, 2.79137546e-04,\n",
       "       2.74661348e-04, 2.73887876e-04, 2.73130739e-04, 2.70414453e-04,\n",
       "       2.66380653e-04, 2.65032609e-04, 2.63560983e-04, 2.61465633e-04,\n",
       "       2.60126865e-04, 2.56048260e-04, 2.52685101e-04, 2.52332244e-04,\n",
       "       2.51178814e-04, 2.48576995e-04, 2.47281079e-04, 2.45004360e-04,\n",
       "       2.41348534e-04, 2.40622122e-04, 2.38888005e-04, 2.35236043e-04,\n",
       "       2.34203450e-04, 2.31571826e-04, 2.30976547e-04, 2.27075014e-04,\n",
       "       2.25286224e-04, 2.23906792e-04, 2.22218340e-04, 2.21021100e-04,\n",
       "       2.18367288e-04, 2.16527882e-04, 2.14994438e-04, 2.14315481e-04,\n",
       "       2.11508350e-04, 2.10268122e-04, 2.07937963e-04, 2.07057444e-04,\n",
       "       2.03579388e-04, 2.03452385e-04, 2.02564374e-04, 2.01803355e-04,\n",
       "       1.99284276e-04, 1.97518756e-04, 1.96903484e-04, 1.95888747e-04,\n",
       "       1.93183427e-04, 1.92101875e-04, 1.90452884e-04, 1.87995750e-04,\n",
       "       1.87693224e-04, 1.86332376e-04, 1.85372559e-04, 1.83712746e-04,\n",
       "       1.82156131e-04, 1.81695678e-04, 1.80480564e-04, 1.78505854e-04,\n",
       "       1.76679693e-04, 1.75478861e-04, 1.72377624e-04, 1.71243115e-04,\n",
       "       1.70991558e-04, 1.69894562e-04, 1.68727662e-04, 1.66922101e-04,\n",
       "       1.66430153e-04, 1.64861798e-04, 1.64250735e-04, 1.62795716e-04,\n",
       "       1.61876283e-04, 1.61134257e-04, 1.60756841e-04, 1.58461858e-04,\n",
       "       1.57870860e-04, 1.55968442e-04, 1.55779433e-04, 1.55269216e-04,\n",
       "       1.53389077e-04, 1.51829888e-04, 1.51097994e-04, 1.50287507e-04,\n",
       "       1.49674751e-04, 1.48877173e-04, 1.47779866e-04, 1.46878377e-04,\n",
       "       1.45304773e-04, 1.43220081e-04, 1.42540721e-04, 1.41480276e-04,\n",
       "       1.40400960e-04, 1.39740900e-04, 1.38516550e-04, 1.38200757e-04,\n",
       "       1.37145937e-04, 1.35143953e-04, 1.34926324e-04, 1.33256836e-04,\n",
       "       1.32716589e-04, 1.31323727e-04, 1.30903759e-04, 1.30465031e-04,\n",
       "       1.29103621e-04, 1.27604943e-04, 1.26286390e-04, 1.25559558e-04,\n",
       "       1.25100596e-04, 1.24087577e-04, 1.22837406e-04, 1.21768622e-04,\n",
       "       1.20959389e-04, 1.20411279e-04, 1.19186559e-04, 1.18515184e-04,\n",
       "       1.17763432e-04, 1.16015134e-04, 1.14973627e-04, 1.14055323e-04,\n",
       "       1.13535490e-04, 1.12369163e-04, 1.11960806e-04, 1.11224759e-04,\n",
       "       1.10297183e-04, 1.10020641e-04, 1.09087499e-04, 1.07913110e-04,\n",
       "       1.07613813e-04, 1.06755193e-04, 1.06439534e-04, 1.05922958e-04,\n",
       "       1.05257008e-04, 1.05086881e-04, 1.03590897e-04, 1.02816276e-04,\n",
       "       1.02358610e-04, 1.02264127e-04, 1.01840171e-04, 1.00412347e-04,\n",
       "       9.85156269e-05, 9.78975960e-05, 9.58753174e-05, 9.55005889e-05,\n",
       "       9.46423267e-05, 9.35332917e-05, 9.23128726e-05, 9.20278915e-05,\n",
       "       9.16520492e-05, 9.08944535e-05, 9.07690137e-05, 9.01981976e-05,\n",
       "       8.96948000e-05, 8.87221847e-05, 8.75431632e-05, 8.57137088e-05,\n",
       "       8.51954074e-05, 8.46616346e-05, 8.35073655e-05, 8.33423939e-05,\n",
       "       8.30594666e-05, 8.18212744e-05, 8.11348680e-05, 8.00357710e-05,\n",
       "       7.87674083e-05, 7.82976289e-05, 7.80288585e-05, 7.75953030e-05,\n",
       "       7.61152928e-05, 7.59092941e-05, 7.56835952e-05, 7.43032278e-05,\n",
       "       7.37311701e-05, 7.28598376e-05, 7.11878981e-05, 7.04428201e-05,\n",
       "       6.97503692e-05, 6.89242960e-05, 6.82356614e-05, 6.79464673e-05,\n",
       "       6.67183909e-05, 6.61478448e-05, 6.58263847e-05, 6.53002138e-05,\n",
       "       6.44194984e-05, 6.41875469e-05, 6.27331447e-05, 6.24585031e-05,\n",
       "       6.09336498e-05, 6.07054744e-05, 5.97583777e-05, 5.94169656e-05,\n",
       "       5.88208293e-05, 5.83736722e-05, 5.74215468e-05, 5.67860144e-05,\n",
       "       5.64383728e-05, 5.59152763e-05, 5.54570027e-05, 5.41718383e-05,\n",
       "       5.30734979e-05, 5.30280340e-05, 5.25658381e-05, 5.20627709e-05,\n",
       "       5.13641224e-05, 5.10370136e-05, 5.04512828e-05, 5.03678226e-05,\n",
       "       4.99613661e-05, 4.95734280e-05, 4.86548649e-05, 4.85594938e-05,\n",
       "       4.69141053e-05, 4.64235160e-05, 4.58007388e-05, 4.54732345e-05,\n",
       "       4.49632651e-05, 4.48659275e-05, 4.39294187e-05, 4.31758080e-05,\n",
       "       4.25615183e-05, 4.14072154e-05, 4.08320371e-05, 4.01986610e-05,\n",
       "       4.00595314e-05, 3.94167201e-05, 3.93533576e-05, 3.88515172e-05,\n",
       "       3.76870060e-05, 3.75650342e-05, 3.68214878e-05, 3.66867891e-05,\n",
       "       3.66236589e-05, 3.54805780e-05, 3.53308594e-05, 3.48867623e-05,\n",
       "       3.45364475e-05, 3.42199783e-05, 3.35120021e-05, 3.27492419e-05,\n",
       "       3.25024564e-05, 3.18190838e-05, 3.15472565e-05, 3.12906134e-05,\n",
       "       3.01689272e-05, 2.99621954e-05, 2.97820363e-05, 2.94931035e-05,\n",
       "       2.89412389e-05, 2.87490975e-05, 2.84748879e-05, 2.79391652e-05,\n",
       "       2.76475435e-05, 2.68479765e-05, 2.65000339e-05, 2.61029053e-05,\n",
       "       2.57096356e-05, 2.55895454e-05, 2.54327744e-05, 2.51777150e-05,\n",
       "       2.47543313e-05, 2.43931104e-05, 2.40906737e-05, 2.34186766e-05,\n",
       "       2.32751628e-05, 2.27560445e-05, 2.25409876e-05, 2.23807692e-05,\n",
       "       2.23159131e-05, 2.18036908e-05, 2.14127215e-05, 2.12526554e-05,\n",
       "       2.09449204e-05, 2.04020296e-05, 2.00678572e-05, 1.99451491e-05,\n",
       "       1.97723407e-05, 1.94958520e-05, 1.89552945e-05, 1.87753539e-05,\n",
       "       1.86256221e-05, 1.81622028e-05, 1.81082205e-05, 1.77893609e-05,\n",
       "       1.74608572e-05, 1.73819510e-05, 1.70949776e-05, 1.69070303e-05,\n",
       "       1.62170719e-05, 1.60605844e-05, 1.58126401e-05, 1.53984575e-05,\n",
       "       1.52621706e-05, 1.50407944e-05, 1.49883498e-05, 1.47341918e-05,\n",
       "       1.45057463e-05, 1.38744130e-05, 1.35196463e-05, 1.32832028e-05,\n",
       "       1.30559657e-05, 1.28938046e-05, 1.27694669e-05, 1.26648113e-05,\n",
       "       1.25960786e-05, 1.23327648e-05, 1.22192146e-05, 1.20640679e-05,\n",
       "       1.17193886e-05, 1.16102296e-05, 1.14843903e-05, 1.14110997e-05,\n",
       "       1.10439306e-05, 1.08799522e-05, 1.05513107e-05, 1.04792367e-05,\n",
       "       1.03922930e-05, 1.01127357e-05, 9.97823748e-06, 9.83179047e-06,\n",
       "       9.82514769e-06, 9.43564043e-06, 9.23743027e-06, 8.98942691e-06,\n",
       "       8.89184624e-06, 8.64202550e-06, 8.53418274e-06, 8.46468717e-06,\n",
       "       8.41443167e-06, 8.15053228e-06, 7.91749842e-06, 7.77529896e-06,\n",
       "       7.72039263e-06, 7.63095433e-06, 7.50305404e-06, 7.43138884e-06,\n",
       "       7.25547535e-06, 7.13246660e-06, 6.98457609e-06, 6.88248601e-06,\n",
       "       6.62522832e-06, 6.61503047e-06, 6.31034958e-06, 6.22036050e-06,\n",
       "       5.93572976e-06, 5.82988110e-06, 5.73657300e-06, 5.63868519e-06,\n",
       "       5.53381198e-06, 5.37223806e-06, 5.05563372e-06, 4.93122726e-06,\n",
       "       4.82158156e-06, 4.78910398e-06, 4.67338734e-06, 4.55385364e-06,\n",
       "       4.43063065e-06, 4.39114579e-06, 4.33714958e-06, 4.27928739e-06,\n",
       "       4.25939928e-06, 4.15495956e-06, 4.09184482e-06, 4.04026219e-06,\n",
       "       3.94969857e-06, 3.82436552e-06, 3.65284771e-06, 3.57315125e-06,\n",
       "       3.47399399e-06, 3.45591657e-06, 3.40808234e-06, 3.36049081e-06,\n",
       "       3.32544938e-06, 3.16126434e-06, 2.95936178e-06, 2.94250509e-06,\n",
       "       2.92364052e-06, 2.90443331e-06, 2.67104506e-06, 2.64668907e-06,\n",
       "       2.49535822e-06, 2.41056401e-06, 2.38628222e-06, 2.33869768e-06,\n",
       "       2.24061264e-06, 2.21912218e-06, 2.13883567e-06, 2.03218377e-06,\n",
       "       2.01372049e-06, 1.98050808e-06, 1.95619884e-06, 1.93754186e-06,\n",
       "       1.90981836e-06, 1.85639072e-06, 1.80234545e-06, 1.68656127e-06,\n",
       "       1.67680583e-06, 1.64028453e-06, 1.57265520e-06, 1.55702702e-06,\n",
       "       1.39724022e-06, 1.37588642e-06, 1.35664676e-06, 1.33284433e-06,\n",
       "       1.31543359e-06, 1.30424310e-06, 1.18168431e-06, 1.17684597e-06,\n",
       "       1.16240814e-06, 1.08204610e-06, 1.05498219e-06, 1.03061078e-06,\n",
       "       1.02912238e-06, 1.00012164e-06, 9.94453580e-07, 9.72739491e-07,\n",
       "       9.32693225e-07, 8.55640911e-07, 8.16250865e-07, 8.02998169e-07,\n",
       "       7.86242811e-07, 7.74647665e-07, 7.57881126e-07, 7.35969430e-07,\n",
       "       7.30515959e-07, 7.17642693e-07, 7.05474484e-07, 6.67005923e-07,\n",
       "       6.51653456e-07, 6.33064412e-07, 6.18752602e-07, 6.01518611e-07,\n",
       "       5.85135549e-07, 5.27984812e-07, 5.17747577e-07, 5.04205084e-07,\n",
       "       4.32783649e-07, 4.24478837e-07, 4.12424702e-07, 4.11695390e-07,\n",
       "       3.98309037e-07, 3.80756630e-07, 3.45917245e-07, 3.23939883e-07,\n",
       "       3.21284243e-07, 3.02579463e-07, 2.91220027e-07, 2.85577004e-07,\n",
       "       2.66129184e-07, 2.45846713e-07, 2.44028915e-07, 2.30172382e-07,\n",
       "       2.15689593e-07, 1.92596344e-07, 1.82685741e-07, 1.79172825e-07,\n",
       "       1.70791981e-07, 1.56729694e-07, 1.46747503e-07, 1.40257129e-07,\n",
       "       1.32375489e-07, 1.26694695e-07, 1.23394622e-07, 1.17976863e-07,\n",
       "       1.16775946e-07, 1.15078381e-07, 1.11261368e-07, 9.91976059e-08,\n",
       "       8.14902109e-08, 7.49633643e-08, 6.59088234e-08, 6.26720350e-08,\n",
       "       6.12016464e-08, 5.81348709e-08, 5.25525768e-08, 4.94847931e-08,\n",
       "       4.53200306e-08, 3.91072100e-08, 3.65947423e-08, 3.54260703e-08,\n",
       "       3.17434644e-08, 2.57354045e-08, 2.13496061e-08, 1.88737819e-08,\n",
       "       1.60069077e-08, 1.58662241e-08, 1.57313001e-08, 1.26902365e-08,\n",
       "       1.12414440e-08, 1.06069034e-08, 9.90688693e-09, 8.51154741e-09,\n",
       "       7.68208179e-09, 6.49280678e-09, 5.41016520e-09, 3.66620710e-09,\n",
       "       3.52118092e-09, 3.34133428e-09, 1.37313907e-09, 1.22900789e-09,\n",
       "       9.20948487e-10, 7.80802410e-10, 2.56293259e-10, 2.51398475e-10,\n",
       "       1.11802169e-10, 1.85683253e-32, 3.91510095e-33, 3.47261929e-33,\n",
       "       2.73247756e-33, 2.51604158e-33, 1.81717241e-33, 1.16962775e-33,\n",
       "       1.02337743e-33, 9.87199451e-34, 9.30505501e-34, 5.15303789e-34,\n",
       "       3.78464732e-34, 3.50774117e-34, 3.50774117e-34, 3.50774117e-34,\n",
       "       3.50774117e-34, 3.50774117e-34, 3.50774117e-34, 3.50774117e-34,\n",
       "       3.50774117e-34, 3.50774117e-34, 3.50774117e-34, 3.50774117e-34,\n",
       "       3.50774117e-34, 3.50774117e-34, 3.50774117e-34, 3.50774117e-34,\n",
       "       3.50774117e-34, 3.50774117e-34, 3.50774117e-34, 3.50774117e-34,\n",
       "       3.50774117e-34, 3.50774117e-34, 3.50774117e-34, 3.50774117e-34,\n",
       "       3.50774117e-34, 3.50774117e-34, 3.50774117e-34, 3.50774117e-34,\n",
       "       3.50774117e-34, 3.50774117e-34, 3.50774117e-34, 3.50774117e-34,\n",
       "       3.50774117e-34, 3.50774117e-34, 3.50774117e-34, 3.50774117e-34,\n",
       "       3.50774117e-34, 3.50774117e-34, 3.50774117e-34, 3.50774117e-34,\n",
       "       3.50774117e-34, 3.50774117e-34, 3.50774117e-34, 3.50774117e-34,\n",
       "       3.50774117e-34, 3.50774117e-34, 3.50774117e-34, 3.50774117e-34,\n",
       "       3.50774117e-34, 3.50774117e-34, 3.50774117e-34, 3.50774117e-34,\n",
       "       3.50774117e-34, 3.50774117e-34, 3.45783849e-34, 3.02939750e-34,\n",
       "       1.50621098e-34, 1.32231868e-34, 1.07962514e-34, 2.42403012e-35])"
      ]
     },
     "execution_count": 248,
     "metadata": {},
     "output_type": "execute_result"
    }
   ],
   "source": [
    "pca.explained_variance_ratio_"
   ]
  },
  {
   "cell_type": "code",
   "execution_count": null,
   "metadata": {},
   "outputs": [],
   "source": []
  }
 ],
 "metadata": {
  "kernelspec": {
   "display_name": "PyCharm (learn-machine-learning)",
   "language": "python",
   "name": "pycharm-9ceae2e3"
  },
  "language_info": {
   "codemirror_mode": {
    "name": "ipython",
    "version": 3
   },
   "file_extension": ".py",
   "mimetype": "text/x-python",
   "name": "python",
   "nbconvert_exporter": "python",
   "pygments_lexer": "ipython3",
   "version": "3.7.7"
  }
 },
 "nbformat": 4,
 "nbformat_minor": 2
}
