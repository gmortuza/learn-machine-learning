{
 "cells": [
  {
   "cell_type": "markdown",
   "metadata": {},
   "source": [
    "<h1> 1.1 Statistics </h1>\n",
    "<p> This notebook focus only the statics requried for Machine Learning. Here we will only use numpy<p>"
   ]
  },
  {
   "cell_type": "code",
   "execution_count": 29,
   "metadata": {},
   "outputs": [],
   "source": [
    "# importing libraries\n",
    "import numpy as np\n",
    "from scipy import stats"
   ]
  },
  {
   "cell_type": "markdown",
   "metadata": {},
   "source": [
    "<h3> 1.1.1 Mean, Meadian, Mode </h3>"
   ]
  },
  {
   "cell_type": "markdown",
   "metadata": {},
   "source": [
    "<strong>Mean: </strong> Mean is the average of the sample data. By dividing summation of all sample value by the number of sample value we can get the mean. \n",
    "\\begin{align}\n",
    "\\bar{x} & = \\frac{1}{n}\\sum_{i=1}^n x_i\\\\\n",
    "\\end{align}\n",
    "<strong>Median: </strong> Median is the midpoint of a sorted dataset. If the dataset has too many outlier then median is more useful than mean. For example, to understand what is the per capita income of a country the median is taken because the rich may be extremely rich which would skew the average and show a different picture than what the average people might experience. In that case, probably, taking the median would give a better insight.\n",
    "\n",
    "<strong>Mode: </strong> It's the most common value in the dataset. It's usefull to understand the concept of clustering or number of hit of a specific value. For example, a retailer may want to understand the mode of sizes purchased so that he can set stocking labels optimally. Say, store A has a mode of ‘small’ while store B has a mode of ‘XXL’.\n",
    "\n",
    "For a discrete random variable, the value with highest probability (the location at which the probability mass function has its peak); for a continuous random variable, a location at which the probability density function has a local peak.\n",
    "<p style=\"text-align:center\"><img src=\"mean-median-mode.png\" /> </p>"
   ]
  },
  {
   "cell_type": "code",
   "execution_count": 31,
   "metadata": {},
   "outputs": [
    {
     "name": "stdout",
     "output_type": "stream",
     "text": [
      "[[52 69 35 99 21  4 24  6  6 95]\n",
      " [62 27  4 75 65 79 77 56 16 57]\n",
      " [61 44 35  3 28 91 83 12  7 12]\n",
      " [ 7 39 58 29 72 85 84 24 59 48]\n",
      " [80 83 90 24 87 79 47 80 22 69]]\n",
      "Mean: [[52 52 44 46 54 67 63 35 22 56]]\n",
      "Median: [[61. 44. 35. 29. 65. 79. 77. 24. 16. 57.]] \n",
      "Mode: ModeResult(mode=array([[ 7, 27, 35,  3, 21, 79, 24,  6,  6, 12]]), count=array([[1, 1, 2, 1, 1, 2, 1, 1, 1, 1]]))\n"
     ]
    }
   ],
   "source": [
    "# calculating mean median mode.\n",
    "dataset = (np.random.rand(5,10) * 100).astype(int)\n",
    "print(dataset)\n",
    "# Axis 0 will take the mean along y axis, axis 1 will calculate mean along x axis\n",
    "# keepdims will use the same dimension\n",
    "print(f\"Mean: {np.mean(dataset, axis=0, keepdims=True, dtype=int)}\")\n",
    "print(f\"Median: {np.median(dataset, axis=0, keepdims=True)} \")\n",
    "print(f\"Mode: {stats.mode(dataset, axis=0)}\")"
   ]
  },
  {
   "cell_type": "markdown",
   "metadata": {},
   "source": [
    "<h3> 1.1.2 Normal Distribution </h3>"
   ]
  },
  {
   "cell_type": "markdown",
   "metadata": {},
   "source": [
    "<ul>\n",
    "    <li>Data creates a bell curve</li>\n",
    "    <li>The curve is symmetric about the mean</li>\n",
    "    <li>Most of the data is seen near the mean</li>\n",
    "    <li>Notation: $ \\mathcal{N}(\\mu,\\,\\sigma^{2})\\ $ </li>\n",
    "    <li>Mean = Median = Mode = $ \\mu $</li>\n",
    "    <li> variance = $ \\sigma^{2} $. Standard Devation = $ \\sigma $ </li>\n",
    "    <li>PDF:  </li>\n",
    "</ul>\n",
    "\\begin{align}\n",
    "P(x) = \\frac{1}{\\sigma \\sqrt {2\\pi } }e^-\\frac{(x - \\mu)^2}{2 \\sigma ^2}\n",
    "\\end{align}\n",
    "<img src=\"normal-distribution.png\" style=\"max-width:50%\"/>\n",
    "<strong>PDF(Probability Density Function):</strong> \n",
    "<ul>\n",
    "    <li>A random variable is continuous if it can be described by a PDF</li>\n",
    "    <li>The probability of happening a <strong>super exact</strong> random variable over any distribution is zero. Cause the probability is the area under the curve. And for a exact variable the we will not get a area instead we will get a line. And the area of the line is zero. If we say the probability of getting an exact random variable $ \\mu $ is zero. But the probability of getting a random variable between $ \\mu - \\sigma $ and $ \\mu + \\sigma $ is 68.27%</li>\n",
    "</ul>\n",
    "\\begin{align}\n",
    "\\int_{\\mu - \\sigma}^{\\mu + \\sigma} \\frac{1}{\\sigma \\sqrt {2\\pi } }e^-\\frac{(x - \\mu)^2}{2 \\sigma ^2} dx = 68.27\n",
    "\\end{align}\n",
    "\n",
    "\\begin{align}\n",
    "\\int_{\\mu - 2\\sigma}^{\\mu + 2\\sigma} \\frac{1}{\\sigma \\sqrt {2\\pi } }e^-\\frac{(x - \\mu)^2}{2 \\sigma ^2} dx = 95.45\n",
    "\\end{align}\n",
    "\n",
    "\\begin{align}\n",
    "\\int_{\\mu - 3\\sigma}^{\\mu + 3\\sigma} \\frac{1}{\\sigma \\sqrt {2\\pi } }e^-\\frac{(x - \\mu)^2}{2 \\sigma ^2} dx = 99.73\n",
    "\\end{align}"
   ]
  },
  {
   "cell_type": "code",
   "execution_count": null,
   "metadata": {},
   "outputs": [],
   "source": []
  },
  {
   "cell_type": "code",
   "execution_count": null,
   "metadata": {},
   "outputs": [],
   "source": []
  },
  {
   "cell_type": "markdown",
   "metadata": {},
   "source": [
    "Used resources:\n",
    "    <ul>\n",
    "        <li>https://medium.com/technology-nineleaps/basics-of-statistics-for-machine-learning-engineers-bf2887ac716c</li>\n",
    "    <li></li>\n",
    "    </ul>"
   ]
  },
  {
   "cell_type": "code",
   "execution_count": null,
   "metadata": {},
   "outputs": [],
   "source": []
  }
 ],
 "metadata": {
  "kernelspec": {
   "display_name": "Python 3",
   "language": "python",
   "name": "python3"
  },
  "language_info": {
   "codemirror_mode": {
    "name": "ipython",
    "version": 3
   },
   "file_extension": ".py",
   "mimetype": "text/x-python",
   "name": "python",
   "nbconvert_exporter": "python",
   "pygments_lexer": "ipython3",
   "version": "3.7.3"
  }
 },
 "nbformat": 4,
 "nbformat_minor": 2
}
