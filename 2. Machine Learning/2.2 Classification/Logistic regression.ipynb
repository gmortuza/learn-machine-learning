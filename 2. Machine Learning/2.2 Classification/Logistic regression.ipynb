{
 "cells": [
  {
   "cell_type": "code",
   "execution_count": 66,
   "metadata": {
    "pycharm": {
     "is_executing": false
    }
   },
   "outputs": [],
   "source": [
    "import numpy as np\n",
    "import pandas as pd\n",
    "import matplotlib.pyplot as plt\n",
    "import sklearn\n",
    "from sklearn.model_selection import train_test_split\n",
    "from sklearn.datasets import load_breast_cancer\n",
    "from sklearn import preprocessing\n",
    "from sklearn.metrics import f1_score"
   ]
  },
  {
   "cell_type": "markdown",
   "metadata": {},
   "source": [
    "# Logistic regression\n",
    "By the name it might seem like Logistic regression is a regression(output value is continious) problem. But the real case is logistic regression is a classification problem(output value is discrete). More specifically logistic regression is a binary classification problem. In this notebook we will deep dive into the mathemetics behind the logistic regression. Also we will see the implementation of logistic regression. Finally, we will measure our performance on breast cancer dataset. And we will compare our performance with scikit-learn logistic regression implementation."
   ]
  },
  {
   "cell_type": "markdown",
   "metadata": {},
   "source": [
    "### Hypothesis \n",
    "Before implementing the logistic regression we must decide how we are going to represent our function/hypothesis $ h $ in a computer. Let's assume we decided to approximate y as a linear function of x:\n",
    "$$ y(x) = h_w(x) = b + w_0x_0 + w_0x_0 + ....... $$\n",
    "Here, $ w_i $'s are the *parameter* this is also known as *weights*. And $ x_i $ represents the input features. If we have a n number of input features then we can simplify the notation as:\n",
    "\n",
    "$$ h(x) = \\sum_{i=0}^n w_ix_i = w^Tx + b $$\n",
    "\n",
    "This hypothesis will return output between [$ -\\infty, +\\infty $]. But the output of the logistic regression is binary, it's either 0 or 1 $ y \\in \\{0, 1\\} $. So we need a function that will squizee any value between 0 and 1. *Sigmoid function* is one of the function that does this thing for us. The sigmoid function is \n",
    "$$ \\sigma(z) = \\frac{1}{1 + e^{-z}} $$ \n",
    "$$ \\sigma(h_w(x)) = \\sigma(w^Tx + b) = \\frac{1}{1 + e^{-(w^Tx + b)}} $$\n",
    "Let's just implement this function and plot it's graph."
   ]
  },
  {
   "cell_type": "code",
   "execution_count": 67,
   "metadata": {},
   "outputs": [
    {
     "data": {
      "text/plain": [
       "Text(0.5, 1.0, 'Sigmoid function')"
      ]
     },
     "execution_count": 67,
     "metadata": {},
     "output_type": "execute_result"
    },
    {
     "data": {
      "image/png": "[encoded data removed]",
      "text/plain": [
       "<Figure size 432x288 with 1 Axes>"
      ]
     },
     "metadata": {},
     "output_type": "display_data"
    }
   ],
   "source": [
    "def sigmoid(z):\n",
    "    z = 1/(1 + np.exp(-z))\n",
    "    return z\n",
    "z = np.linspace(-10, 10, 100)   \n",
    "plt.plot(z, sigmoid(z)) \n",
    "plt.xlabel(\"z\") \n",
    "plt.ylabel(\"g(z)\") \n",
    "plt.title(\"Sigmoid function\")"
   ]
  },
  {
   "cell_type": "markdown",
   "metadata": {},
   "source": [
    " We can clearly see that regardless of the input value, output value is between 0 and 1. Instead of the sigmoid function any other function can be used. But sigmoid function is most widely used because of the certain benefits. You can learn more about the benefits of sigmoid function [here](https://sebastianraschka.com/faq/docs/logistic-why-sigmoid.html).  "
   ]
  },
  {
   "cell_type": "markdown",
   "metadata": {},
   "source": [
    "### Cost function\n",
    "Cost function is used to measure the performance of any machine learning model. It quantifies the error between the predicted value and expected value. So, our goal is to reduce the error of the overall model. There are set of value of $ w $ that will minimize the value of cost function. We need to find that $ w $ value.\n",
    "Let's assume that:\n",
    "Probability of $ y = 1 $ given x is $ h_w(x) $; where the parameters are $ w $\n",
    "$$ P(y = 1 | x; w) = h_w(x) $$\n",
    "As it's a binary classification so the probability of $ y = 0 $ given x will be $ 1 - h_w(x) $\n",
    "$$ P(y = 0 | x; w) = 1 - h_w(x) $$\n",
    "This can be rewritten compactly as:\n",
    "$$ P(y | x; w) = (h_w(x))^y(1-h_w(x))^{(1-y)} $$\n",
    "\n",
    "Assuming that we have $ m $ training examples which are independent with each other, we can write down the likelihood of the parameter as\n",
    "$$ \n",
    "\\begin{align}\n",
    "L(w) &= p(y | X; w) \\\\\n",
    "& = \\prod_{i=1}^m p(y^{(i)} | x^{(i)}; w) \\\\\n",
    "& = \\prod_{i=1}^m (h_w(x^{(i)}))^{y^{(i)}}(1-h_w(x^{(i)}))^{(1-y)^{(i)}}\n",
    "\\end{align} \n",
    "$$ \n",
    "\n",
    "This equation contains the product of many probability. And the probability is a small number which is less than number. Multiplying many small number might make the resulting number close to 0. So it would be hard to maximize/minimize that. So it's better to convert the prodcut into summation. For that instead of maximizing/minimizing the likelihood we will maximize/minimize the log likelihood\n",
    "\n",
    "$$\n",
    "\\begin{align}\n",
    "\\ell(w) &= log L(w) \\\\\n",
    "&= \\sum_{i=1}^m y^{(i)} log h(x^{(i)}) + (1 - y^{(i)}) log(1-h(x^{(i)}))\n",
    "\\end{align}\n",
    "$$\n",
    "\n",
    "Instead of maximizing the log likelihood we can also minimize the negetive of log likelihood. Both works same. But the name cost is something like it should be reduced so we are minimizing it.\n",
    "\n",
    "$$ \\ell(w) = - \\sum_{i=1}^m y^{(i)} log h(x^{(i)}) + (1 - y^{(i)}) log(1-h(x^{(i)})) $$\n",
    "```python\n",
    "a = h_w(x) = sigmoid(np.dot(x, w) + b)\n",
    "cost = - np.sum(y *(np.log(a) + (1-y) * np.log(1-a)) / m\n",
    "```\n",
    "we can minimize this using the [gradient descent](https://www.youtube.com/watch?v=IHZwWFHWa-w). For that we need to take the derivate of the cost function. \n",
    "$$ \\frac{\\partial \\ell(w)}{\\partial w_j} = (h_w(x) - y)x_j $$\n",
    "```python\n",
    "\n",
    "dw = np.dot(x.T, (a-y)) / m\n",
    "db = np.sum(a -y) /m\n",
    "```\n",
    "The update rule for our parameter w is: \n",
    "$$ w_j := w_j - \\alpha \\frac{\\partial \\ell(w)}{\\partial w_j} $$\n",
    "\n",
    "```python\n",
    "w = w - alpha * dw\n",
    "b = b - alpha * db\n",
    "```"
   ]
  },
  {
   "cell_type": "markdown",
   "metadata": {},
   "source": [
    "## General Architecture of the learning algorithm ##\n",
    "![lg cat](./lg_cat.png)\n",
    "\n",
    "**Mathematical expression of the algorithm**:\n",
    "\n",
    "For one example $x^{(i)}$:\n",
    "$$z^{(i)} = w^T x^{(i)} + b \\tag{1}$$\n",
    "$$\\hat{y}^{(i)} = a^{(i)} = sigmoid(z^{(i)})\\tag{2}$$ \n",
    "$$ \\mathcal{L}(a^{(i)}, y^{(i)}) =  - y^{(i)}  \\log(a^{(i)}) - (1-y^{(i)} )  \\log(1-a^{(i)})\\tag{3}$$\n",
    "\n",
    "The cost is then computed by summing over all training examples:\n",
    "$$ J = \\frac{1}{m} \\sum_{i=1}^m \\mathcal{L}(a^{(i)}, y^{(i)})\\tag{6}$$\n"
   ]
  },
  {
   "cell_type": "code",
   "execution_count": 68,
   "metadata": {
    "pycharm": {
     "is_executing": false
    }
   },
   "outputs": [],
   "source": [
    "def propagate(w, b, x, y):\n",
    "        \"\"\"\n",
    "        Implement the cost function and its gradient for the propagation explained above\n",
    "\n",
    "        :param: w -- weights, a numpy array of size (x.shape[1], 1). Number of feature of x\n",
    "        :param: b -- bias, a scalar\n",
    "        :param: x -- data of size (number_of_training_example, number of feature)\n",
    "        :param: y -- true \"label\" vector of size (number_of_training_example, 1)\n",
    "\n",
    "        :returns: cost -- negative log-likelihood cost for logistic regression\n",
    "        :returns: dw -- gradient of the loss with respect to w, thus same shape as w\n",
    "        :returns: db -- gradient of the loss with respect to b, thus same shape as b\n",
    "        \"\"\"\n",
    "\n",
    "        m = x.shape[0]  # Number of training example\n",
    "\n",
    "        # FORWARD PROPAGATION (FROM x TO COST)\n",
    "        a = sigmoid(np.dot(x, w) + b)  # compute activation\n",
    "        cost = - np.sum(y * np.log(a) + (1 - y) * np.log(1 - a)) / m  # compute cost\n",
    "        # BACKWARD PROPAGATION (TO FIND GRAD)\n",
    "        dw = np.dot(x.T, (a - y)) / m\n",
    "        db = np.sum(a - y) / m\n",
    "\n",
    "        cost = np.squeeze(cost)\n",
    "\n",
    "        grads = {\"dw\": dw,\n",
    "                 \"db\": db}\n",
    "        return grads, cost\n"
   ]
  },
  {
   "cell_type": "code",
   "execution_count": 69,
   "metadata": {
    "pycharm": {
     "is_executing": false
    }
   },
   "outputs": [],
   "source": [
    "def optimize(w, b, x, y, num_iteration, learning_rate, verbose):\n",
    "        \"\"\"\n",
    "        This function optimizes w and b by running a gradient descent algorithm\n",
    "\n",
    "        Arguments:\n",
    "        w -- weights, a numpy array of size (x.shape[1], 1). Number of feature of x\n",
    "        b -- bias, a scalar\n",
    "        x -- data of shape (number_of_training_example, number of feature)\n",
    "        y -- true \"label\" vector, of shape (1, number of examples)\n",
    "\n",
    "        Returns:\n",
    "        params -- dictionary containing the weights w and bias b\n",
    "        grads -- dictionary containing the gradients of the weights and bias with respect to the cost function\n",
    "        costs -- list of all the costs computed during the optimization, this will be used to plot the learning curve.\n",
    "        \"\"\"\n",
    "\n",
    "        costs = {}\n",
    "\n",
    "        for i in range(num_iteration):\n",
    "\n",
    "            # Cost and gradient calculation\n",
    "            grads, cost = propagate(w, b, x, y)\n",
    "\n",
    "            # Retrieve derivatives from grads\n",
    "            dw = grads[\"dw\"]\n",
    "            db = grads[\"db\"]\n",
    "\n",
    "            # update rule\n",
    "            w = w - learning_rate * dw\n",
    "            b = b - learning_rate * db\n",
    "\n",
    "            # Record the costs\n",
    "            if i % 100 == 0:\n",
    "                costs[i] = cost\n",
    "\n",
    "            # Print the cost every 100 training iterations\n",
    "            if verbose and i % 100 == 0:\n",
    "                print(\"Cost after iteration %i: %f\" % (i, cost))\n",
    "\n",
    "        return w, b, costs"
   ]
  },
  {
   "cell_type": "code",
   "execution_count": 70,
   "metadata": {
    "pycharm": {
     "is_executing": false
    }
   },
   "outputs": [],
   "source": [
    "def predict(x, w, b):\n",
    "        \"\"\"\n",
    "        Predict whether the label is 0 or 1 using learned logistic regression parameters (w, b)\n",
    "\n",
    "        Arguments:\n",
    "        w -- weights, a numpy array of size (x.shape[1], 1). Number of feature of x\n",
    "        b -- bias, a scalar\n",
    "        x -- data of size (number_of_training_example, number of feature)\n",
    "\n",
    "        Returns:\n",
    "        y_prediction -- a numpy array (vector) containing all predictions (0/1) for the examples in x\n",
    "        \"\"\"\n",
    "\n",
    "        m = x.shape[0]\n",
    "        y_prediction = np.zeros((m, 1))\n",
    "        w = w.reshape(x.shape[1], 1)\n",
    "\n",
    "        # Compute vector \"A\" predicting the probabilities of a cat being present in the picture\n",
    "        a = sigmoid(np.dot(x, w) + b)\n",
    "\n",
    "        for i in range(a.shape[0]):\n",
    "            # Convert probabilities A[0,i] to actual predictions p[0,i]\n",
    "            y_prediction[i][0] = 0 if a[i][0] <= .5 else 1\n",
    "\n",
    "        return y_prediction"
   ]
  },
  {
   "cell_type": "code",
   "execution_count": 77,
   "metadata": {
    "pycharm": {
     "is_executing": false
    }
   },
   "outputs": [],
   "source": [
    "def model(x_train, y_train, x_test, y_test, num_iterations = 2000, learning_rate = 0.005, verbose = True):\n",
    "        \"\"\"\n",
    "        Builds the logistic regression model by calling the function you've implemented previously\n",
    "\n",
    "        Arguments:\n",
    "        x_train -- training set represented by a numpy array of shape (number_of_training_example, number of feature)\n",
    "        y_train -- training labels represented by a numpy array (vector) of shape (1, m_train)\n",
    "        x_test -- test set represented by a numpy array of shape (number_of_training_example, number of feature)\n",
    "        y_test -- test labels represented by a numpy array (vector) of shape (1, m_test)\n",
    "        num_iterations -- hyperparameter representing the number of iterations to optimize the parameters\n",
    "        learning_rate -- hyperparameter representing the learning rate used in the update rule of optimize()\n",
    "        print_cost -- Set to true to print the cost every 100 iterations\n",
    "\n",
    "        Returns:\n",
    "        d -- dictionary containing information about the model.\n",
    "        \"\"\"\n",
    "        # Resizing the y input\n",
    "        y_train = y_train.reshape(-1, 1)\n",
    "        y_test = y_test.reshape(-1, 1)\n",
    "        # initialize parameters with zeros\n",
    "        w = np.zeros((x_train.shape[1],1))\n",
    "        b = 0\n",
    "\n",
    "        # Gradient descent\n",
    "        w, b, costs = optimize(w, b, x_train, y_train, num_iterations, learning_rate, verbose)\n",
    "        y_prediction_test = predict(x_test, w, b)\n",
    "        y_prediction_train = predict(x_train, w, b)\n",
    "        train_acc = 100 - np.mean(np.abs(y_prediction_train - y_train)) * 100\n",
    "        test_acc = 100 - np.mean(np.abs(y_prediction_test - y_test)) * 100\n",
    "        train_f1 = f1_score(y_train, y_prediction_train)\n",
    "        test_f1 = f1_score(y_test, y_prediction_test)\n",
    "        print(\"Train f1 score: \", train_f1)\n",
    "        print(\"Test f1 score: \", test_f1)\n",
    "\n",
    "        return {\"costs\": costs, \"train_accuracy\": train_acc, \"test_accuracy\": test_acc, \"train_f1\": train_f1,\n",
    "                \"test_f1\": test_f1}"
   ]
  },
  {
   "cell_type": "code",
   "execution_count": 78,
   "metadata": {
    "pycharm": {
     "is_executing": false
    }
   },
   "outputs": [
    {
     "data": {
      "text/html": [
       "<div>\n",
       "<style scoped>\n",
       "    .dataframe tbody tr th:only-of-type {\n",
       "        vertical-align: middle;\n",
       "    }\n",
       "\n",
       "    .dataframe tbody tr th {\n",
       "        vertical-align: top;\n",
       "    }\n",
       "\n",
       "    .dataframe thead th {\n",
       "        text-align: right;\n",
       "    }\n",
       "</style>\n",
       "<table border=\"1\" class=\"dataframe\">\n",
       "  <thead>\n",
       "    <tr style=\"text-align: right;\">\n",
       "      <th></th>\n",
       "      <th>mean radius</th>\n",
       "      <th>mean texture</th>\n",
       "      <th>mean perimeter</th>\n",
       "      <th>mean area</th>\n",
       "      <th>mean smoothness</th>\n",
       "      <th>mean compactness</th>\n",
       "      <th>mean concavity</th>\n",
       "      <th>mean concave points</th>\n",
       "      <th>mean symmetry</th>\n",
       "      <th>mean fractal dimension</th>\n",
       "      <th>...</th>\n",
       "      <th>worst texture</th>\n",
       "      <th>worst perimeter</th>\n",
       "      <th>worst area</th>\n",
       "      <th>worst smoothness</th>\n",
       "      <th>worst compactness</th>\n",
       "      <th>worst concavity</th>\n",
       "      <th>worst concave points</th>\n",
       "      <th>worst symmetry</th>\n",
       "      <th>worst fractal dimension</th>\n",
       "      <th>target</th>\n",
       "    </tr>\n",
       "  </thead>\n",
       "  <tbody>\n",
       "    <tr>\n",
       "      <th>0</th>\n",
       "      <td>17.99</td>\n",
       "      <td>10.38</td>\n",
       "      <td>122.80</td>\n",
       "      <td>1001.0</td>\n",
       "      <td>0.11840</td>\n",
       "      <td>0.27760</td>\n",
       "      <td>0.3001</td>\n",
       "      <td>0.14710</td>\n",
       "      <td>0.2419</td>\n",
       "      <td>0.07871</td>\n",
       "      <td>...</td>\n",
       "      <td>17.33</td>\n",
       "      <td>184.60</td>\n",
       "      <td>2019.0</td>\n",
       "      <td>0.1622</td>\n",
       "      <td>0.6656</td>\n",
       "      <td>0.7119</td>\n",
       "      <td>0.2654</td>\n",
       "      <td>0.4601</td>\n",
       "      <td>0.11890</td>\n",
       "      <td>0</td>\n",
       "    </tr>\n",
       "    <tr>\n",
       "      <th>1</th>\n",
       "      <td>20.57</td>\n",
       "      <td>17.77</td>\n",
       "      <td>132.90</td>\n",
       "      <td>1326.0</td>\n",
       "      <td>0.08474</td>\n",
       "      <td>0.07864</td>\n",
       "      <td>0.0869</td>\n",
       "      <td>0.07017</td>\n",
       "      <td>0.1812</td>\n",
       "      <td>0.05667</td>\n",
       "      <td>...</td>\n",
       "      <td>23.41</td>\n",
       "      <td>158.80</td>\n",
       "      <td>1956.0</td>\n",
       "      <td>0.1238</td>\n",
       "      <td>0.1866</td>\n",
       "      <td>0.2416</td>\n",
       "      <td>0.1860</td>\n",
       "      <td>0.2750</td>\n",
       "      <td>0.08902</td>\n",
       "      <td>0</td>\n",
       "    </tr>\n",
       "    <tr>\n",
       "      <th>2</th>\n",
       "      <td>19.69</td>\n",
       "      <td>21.25</td>\n",
       "      <td>130.00</td>\n",
       "      <td>1203.0</td>\n",
       "      <td>0.10960</td>\n",
       "      <td>0.15990</td>\n",
       "      <td>0.1974</td>\n",
       "      <td>0.12790</td>\n",
       "      <td>0.2069</td>\n",
       "      <td>0.05999</td>\n",
       "      <td>...</td>\n",
       "      <td>25.53</td>\n",
       "      <td>152.50</td>\n",
       "      <td>1709.0</td>\n",
       "      <td>0.1444</td>\n",
       "      <td>0.4245</td>\n",
       "      <td>0.4504</td>\n",
       "      <td>0.2430</td>\n",
       "      <td>0.3613</td>\n",
       "      <td>0.08758</td>\n",
       "      <td>0</td>\n",
       "    </tr>\n",
       "    <tr>\n",
       "      <th>3</th>\n",
       "      <td>11.42</td>\n",
       "      <td>20.38</td>\n",
       "      <td>77.58</td>\n",
       "      <td>386.1</td>\n",
       "      <td>0.14250</td>\n",
       "      <td>0.28390</td>\n",
       "      <td>0.2414</td>\n",
       "      <td>0.10520</td>\n",
       "      <td>0.2597</td>\n",
       "      <td>0.09744</td>\n",
       "      <td>...</td>\n",
       "      <td>26.50</td>\n",
       "      <td>98.87</td>\n",
       "      <td>567.7</td>\n",
       "      <td>0.2098</td>\n",
       "      <td>0.8663</td>\n",
       "      <td>0.6869</td>\n",
       "      <td>0.2575</td>\n",
       "      <td>0.6638</td>\n",
       "      <td>0.17300</td>\n",
       "      <td>0</td>\n",
       "    </tr>\n",
       "    <tr>\n",
       "      <th>4</th>\n",
       "      <td>20.29</td>\n",
       "      <td>14.34</td>\n",
       "      <td>135.10</td>\n",
       "      <td>1297.0</td>\n",
       "      <td>0.10030</td>\n",
       "      <td>0.13280</td>\n",
       "      <td>0.1980</td>\n",
       "      <td>0.10430</td>\n",
       "      <td>0.1809</td>\n",
       "      <td>0.05883</td>\n",
       "      <td>...</td>\n",
       "      <td>16.67</td>\n",
       "      <td>152.20</td>\n",
       "      <td>1575.0</td>\n",
       "      <td>0.1374</td>\n",
       "      <td>0.2050</td>\n",
       "      <td>0.4000</td>\n",
       "      <td>0.1625</td>\n",
       "      <td>0.2364</td>\n",
       "      <td>0.07678</td>\n",
       "      <td>0</td>\n",
       "    </tr>\n",
       "  </tbody>\n",
       "</table>\n",
       "<p>5 rows × 31 columns</p>\n",
       "</div>"
      ],
      "text/plain": [
       "   mean radius  mean texture  mean perimeter  mean area  mean smoothness  \\\n",
       "0        17.99         10.38          122.80     1001.0          0.11840   \n",
       "1        20.57         17.77          132.90     1326.0          0.08474   \n",
       "2        19.69         21.25          130.00     1203.0          0.10960   \n",
       "3        11.42         20.38           77.58      386.1          0.14250   \n",
       "4        20.29         14.34          135.10     1297.0          0.10030   \n",
       "\n",
       "   mean compactness  mean concavity  mean concave points  mean symmetry  \\\n",
       "0           0.27760          0.3001              0.14710         0.2419   \n",
       "1           0.07864          0.0869              0.07017         0.1812   \n",
       "2           0.15990          0.1974              0.12790         0.2069   \n",
       "3           0.28390          0.2414              0.10520         0.2597   \n",
       "4           0.13280          0.1980              0.10430         0.1809   \n",
       "\n",
       "   mean fractal dimension  ...  worst texture  worst perimeter  worst area  \\\n",
       "0                 0.07871  ...          17.33           184.60      2019.0   \n",
       "1                 0.05667  ...          23.41           158.80      1956.0   \n",
       "2                 0.05999  ...          25.53           152.50      1709.0   \n",
       "3                 0.09744  ...          26.50            98.87       567.7   \n",
       "4                 0.05883  ...          16.67           152.20      1575.0   \n",
       "\n",
       "   worst smoothness  worst compactness  worst concavity  worst concave points  \\\n",
       "0            0.1622             0.6656           0.7119                0.2654   \n",
       "1            0.1238             0.1866           0.2416                0.1860   \n",
       "2            0.1444             0.4245           0.4504                0.2430   \n",
       "3            0.2098             0.8663           0.6869                0.2575   \n",
       "4            0.1374             0.2050           0.4000                0.1625   \n",
       "\n",
       "   worst symmetry  worst fractal dimension  target  \n",
       "0          0.4601                  0.11890       0  \n",
       "1          0.2750                  0.08902       0  \n",
       "2          0.3613                  0.08758       0  \n",
       "3          0.6638                  0.17300       0  \n",
       "4          0.2364                  0.07678       0  \n",
       "\n",
       "[5 rows x 31 columns]"
      ]
     },
     "execution_count": 78,
     "metadata": {},
     "output_type": "execute_result"
    }
   ],
   "source": [
    "data = load_breast_cancer()\n",
    "df = pd.DataFrame(data.data, columns=data.feature_names)\n",
    "df[\"target\"] = data.target\n",
    "df.head()"
   ]
  },
  {
   "cell_type": "code",
   "execution_count": 79,
   "metadata": {
    "pycharm": {
     "is_executing": false
    }
   },
   "outputs": [],
   "source": [
    "X_train, X_test, y_train, y_test = train_test_split(\n",
    "    data.data, data.target, test_size=0.33, random_state=42)"
   ]
  },
  {
   "cell_type": "code",
   "execution_count": 80,
   "metadata": {
    "pycharm": {
     "is_executing": false
    }
   },
   "outputs": [],
   "source": [
    "X_train = preprocessing.scale(X_train)\n",
    "X_test = preprocessing.scale(X_test)"
   ]
  },
  {
   "cell_type": "code",
   "execution_count": 81,
   "metadata": {
    "pycharm": {
     "is_executing": false
    }
   },
   "outputs": [
    {
     "name": "stdout",
     "output_type": "stream",
     "text": [
      "X_train:  (381, 30)\n",
      "y_train:  (381,)\n"
     ]
    }
   ],
   "source": [
    "print(\"X_train: \", X_train.shape)\n",
    "print(\"y_train: \", y_train.shape)"
   ]
  },
  {
   "cell_type": "code",
   "execution_count": 83,
   "metadata": {
    "pycharm": {
     "is_executing": false
    }
   },
   "outputs": [
    {
     "name": "stdout",
     "output_type": "stream",
     "text": [
      "Train f1 score:  0.9853249475890986\n",
      "Test f1 score:  0.9917355371900827\n"
     ]
    }
   ],
   "source": [
    "d = model(X_train, y_train, X_test, y_test, num_iterations = 2000, learning_rate = 0.005, verbose = False)"
   ]
  },
  {
   "cell_type": "code",
   "execution_count": 89,
   "metadata": {
    "pycharm": {
     "is_executing": false
    }
   },
   "outputs": [
    {
     "data": {
      "text/plain": [
       "[<matplotlib.lines.Line2D at 0x7feb4ac5e4d0>]"
      ]
     },
     "execution_count": 89,
     "metadata": {},
     "output_type": "execute_result"
    },
    {
     "data": {
      "image/png": "[encoded data removed]",
      "text/plain": [
       "<Figure size 432x288 with 1 Axes>"
      ]
     },
     "metadata": {},
     "output_type": "display_data"
    }
   ],
   "source": [
    "plt.plot(list(d[\"costs\"].keys()), list(d[\"costs\"].values()))"
   ]
  },
  {
   "cell_type": "code",
   "execution_count": null,
   "metadata": {
    "pycharm": {
     "is_executing": false,
     "name": "#%%\n"
    }
   },
   "outputs": [],
   "source": []
  },
  {
   "cell_type": "code",
   "execution_count": null,
   "metadata": {
    "pycharm": {
     "name": "#%%\n"
    }
   },
   "outputs": [],
   "source": [
    "\n"
   ]
  }
 ],
 "metadata": {
  "kernelspec": {
   "display_name": "PyCharm (learn-machine-learning)",
   "language": "python",
   "name": "pycharm-9ceae2e3"
  },
  "language_info": {
   "codemirror_mode": {
    "name": "ipython",
    "version": 3
   },
   "file_extension": ".py",
   "mimetype": "text/x-python",
   "name": "python",
   "nbconvert_exporter": "python",
   "pygments_lexer": "ipython3",
   "version": "3.7.7"
  },
  "pycharm": {
   "stem_cell": {
    "cell_type": "raw",
    "metadata": {
     "collapsed": false
    },
    "source": []
   }
  }
 },
 "nbformat": 4,
 "nbformat_minor": 2
}
