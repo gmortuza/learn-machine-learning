{
 "cells": [
  {
   "cell_type": "markdown",
   "metadata": {},
   "source": [
    "# Linear regression\n",
    "Linear regression is one of the most widely used machine learning model. In this notebook we will see how to use implement linear regression using the python. We will use boston housing price datasets. \n",
    "### Hypothesis\n",
    "To perform supervised learning, we must decide how we're going to represent functions/hypothesis $ h $ in a computer. As an initial choice lets say we decide to approximate $ y $ as a linear function of $ x $.\n",
    "$$ h_w(x) = w_0 + w_1x_1 + w_2x_2 $$\n",
    "Here $ w_i $ are the **parameters**(also called **weights**) parameterizing the space of linear functions mapping from $ \\mathcal{X} $ to $ \\mathcal{Y} $. Here, $ x_i $ represent the input feature and $ w_i $ represent how important that particular feature is for the output. For example size of the house might be the most important feature for the price so weight related this feature will be higher.  We can write the equations more compactly:\n",
    "$$ h(x) = \\sum_{i=0}^nw_ix_i = w^Tx $$\n",
    "There are multiple ways of updating the weights. For example gradient descent, using normal equations, newton's method etc.\n",
    "### Cost function\n",
    "We need to set $ w $ in a way that it makes the value of $ h(x) $ close to $ y $, at least for a single training example. We can do that by reducing the mean square loss between $ h(x) $ and $ y $. So we will keep updating the value of $ w $ untill $ (h(x) - y)^2 \\approx 0 $. This is a loss function for a single training example. For $ m $ training example the **Cost function** will be\n",
    "$$ J(w) = \\frac{1}{2}\\sum_{i=0}^m(h_w(x^{(i)}) - y^{(i)})^2 $$"
   ]
  },
  {
   "cell_type": "markdown",
   "metadata": {},
   "source": [
    "## Implement the model"
   ]
  },
  {
   "cell_type": "code",
   "execution_count": 102,
   "metadata": {},
   "outputs": [],
   "source": [
    "# Import the required module\n",
    "import numpy as np\n",
    "import pandas as pd\n",
    "from sklearn.datasets import load_boston\n",
    "from sklearn.linear_model import LinearRegression\n",
    "import matplotlib.pyplot as plt\n",
    "from sklearn.model_selection import train_test_split\n",
    "from sklearn import preprocessing\n",
    "from sklearn.metrics import r2_score"
   ]
  },
  {
   "cell_type": "code",
   "execution_count": null,
   "metadata": {},
   "outputs": [],
   "source": []
  },
  {
   "cell_type": "markdown",
   "metadata": {},
   "source": [
    "\n",
    "### Gradient descent\n",
    "$$\n",
    "\\text{Repeat until convergence}\\{ \\\\\n",
    "   \\;\\;\\;\\;\\;\\; w_j := w_j - \\alpha \\sum_{i=1}^m(h_w(x^{(i)}) - y^{(i)})x_j^{(i)} \\\\\n",
    "\\} \n",
    "$$"
   ]
  },
  {
   "cell_type": "code",
   "execution_count": 85,
   "metadata": {},
   "outputs": [],
   "source": [
    "def propagate(w, b, x, y):\n",
    "    m = x.shape[0]\n",
    "    # Calculating cost\n",
    "    h_x = np.dot(x, w) + b\n",
    "    cost = np.sum((h_x - y) ** 2) / 2\n",
    "    cost = np.squeeze(cost)\n",
    "\n",
    "    # BACKWARD PROPAGATION (TO FIND GRAD)\n",
    "    dw = np.dot(x.T, (h_x - y)) / m\n",
    "    db = np.sum(h_x - y) / m\n",
    "\n",
    "    return dw, db, cost"
   ]
  },
  {
   "cell_type": "code",
   "execution_count": 86,
   "metadata": {},
   "outputs": [],
   "source": [
    "def optimize(w, b, x, y, learning_rate, num_iteration, verbose):\n",
    "    costs = {}\n",
    "    for i in range(num_iteration):\n",
    "        dw, db, cost = propagate(w, b, x, y)\n",
    "        # Updating parameter\n",
    "        w = w - learning_rate * dw\n",
    "        b = b - learning_rate * db\n",
    "\n",
    "        if i % 100 == 0:\n",
    "            costs[i] = cost\n",
    "            if verbose:\n",
    "                print(\"Cost after iteration \", i, \" is \", cost)\n",
    "    return w, b, costs\n"
   ]
  },
  {
   "cell_type": "markdown",
   "metadata": {},
   "source": [
    "### Normal equation\n",
    "By using the an equation we can find the value of $ w $ that will minimize the $ J(w) $. The equation can be derived by using the property of linear algebra.\n",
    "\n",
    "$$\n",
    "w = (X^TX)^{-1}X^T\\vec{v}\n",
    "$$"
   ]
  },
  {
   "cell_type": "code",
   "execution_count": 111,
   "metadata": {},
   "outputs": [],
   "source": [
    "def optimize_by_normal_equation(x, y):\n",
    "    return np.dot(np.dot(np.linalg.inv(np.dot(x.T, x)), x.T), y)"
   ]
  },
  {
   "cell_type": "markdown",
   "metadata": {},
   "source": [
    "### Combine all"
   ]
  },
  {
   "cell_type": "code",
   "execution_count": 112,
   "metadata": {},
   "outputs": [],
   "source": [
    "def predict(w, b, x):\n",
    "    return np.dot(x, w) + b"
   ]
  },
  {
   "cell_type": "code",
   "execution_count": 120,
   "metadata": {},
   "outputs": [],
   "source": [
    "def model(x_train, y_train, x_test, y_test, method=\"gradient_descent\", learning_rate=0.001, num_iteration=5000, verbose=False):\n",
    "    # Resizing the y input\n",
    "    y_train = y_train.reshape(-1, 1)\n",
    "    y_test = y_test.reshape(-1, 1)\n",
    "    # initialize parameters with zeros\n",
    "    w = np.zeros((x_train.shape[1], 1))\n",
    "    b = 0\n",
    "\n",
    "    w, b, costs = optimize(w, b, x_train, y_train, learning_rate, num_iteration, verbose)\n",
    "    if method == \"normal_equation\":\n",
    "        w = optimize_by_normal_equation(x_train, y_train)\n",
    "    y_prediction_train = predict(w, b, x_train)\n",
    "    y_prediction_test = predict(w, b, x_test)\n",
    "    train_r1 = r2_score(y_train, y_prediction_train)\n",
    "    test_r1 = r2_score(y_test, y_prediction_test)\n",
    "    print(\"Train f1 score: \", train_r1)\n",
    "    print(\"Test f1 score: \", test_r1)\n",
    "\n",
    "    return {\"costs\": costs,  \"train_f1\": train_r1, \"test_f1\": test_r1}"
   ]
  },
  {
   "cell_type": "markdown",
   "metadata": {},
   "source": [
    "## Test our model"
   ]
  },
  {
   "cell_type": "code",
   "execution_count": 121,
   "metadata": {},
   "outputs": [
    {
     "name": "stdout",
     "output_type": "stream",
     "text": [
      "Train f1 score:  0.7590128408370145\n",
      "Test f1 score:  0.6354885109963413\n"
     ]
    },
    {
     "data": {
      "image/png": "[encoded data removed]",
      "text/plain": [
       "<Figure size 432x288 with 1 Axes>"
      ]
     },
     "metadata": {},
     "output_type": "display_data"
    }
   ],
   "source": [
    "data = load_boston()\n",
    "X_train, X_test, y_train, y_test = train_test_split(data.data, data.target, test_size=0.33)\n",
    "X_train = preprocessing.scale(X_train)\n",
    "X_test = preprocessing.scale(X_test)\n",
    "history = model(X_train, y_train, X_test, y_test)\n",
    "plt.plot(list(history[\"costs\"].keys()), list(history[\"costs\"].values()))\n",
    "plt.show()"
   ]
  },
  {
   "cell_type": "code",
   "execution_count": 122,
   "metadata": {},
   "outputs": [
    {
     "name": "stdout",
     "output_type": "stream",
     "text": [
      "Train f1 score:  0.7656699577284058\n",
      "Test f1 score:  0.652099614710822\n"
     ]
    }
   ],
   "source": [
    "# Test with normal equation\n",
    "history = model(X_train, y_train, X_test, y_test, method=\"normal_equation\")"
   ]
  },
  {
   "cell_type": "markdown",
   "metadata": {},
   "source": [
    "## Compare with sikit learn"
   ]
  },
  {
   "cell_type": "code",
   "execution_count": 123,
   "metadata": {},
   "outputs": [
    {
     "name": "stdout",
     "output_type": "stream",
     "text": [
      "Train r2 score:  0.7659295399841216\n",
      "Test r2 score:  0.6523758379011246\n"
     ]
    }
   ],
   "source": [
    "linearRegression = LinearRegression()\n",
    "linearRegression.fit(X_train, y_train)\n",
    "print(\"Train r2 score: \", r2_score(y_train, linearRegression.predict(X_train)))\n",
    "print(\"Test r2 score: \", r2_score(y_test, linearRegression.predict(X_test)))"
   ]
  },
  {
   "cell_type": "code",
   "execution_count": null,
   "metadata": {},
   "outputs": [],
   "source": []
  }
 ],
 "metadata": {
  "kernelspec": {
   "display_name": "ml",
   "language": "python",
   "name": "ml"
  },
  "language_info": {
   "codemirror_mode": {
    "name": "ipython",
    "version": 3
   },
   "file_extension": ".py",
   "mimetype": "text/x-python",
   "name": "python",
   "nbconvert_exporter": "python",
   "pygments_lexer": "ipython3",
   "version": "3.7.7"
  }
 },
 "nbformat": 4,
 "nbformat_minor": 2
}
