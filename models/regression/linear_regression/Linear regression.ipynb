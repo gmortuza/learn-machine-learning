{
  "nbformat": 4,
  "nbformat_minor": 0,
  "metadata": {
    "kernelspec": {
      "display_name": "ml",
      "language": "python",
      "name": "ml"
    },
    "language_info": {
      "codemirror_mode": {
        "name": "ipython",
        "version": 3
      },
      "file_extension": ".py",
      "mimetype": "text/x-python",
      "name": "python",
      "nbconvert_exporter": "python",
      "pygments_lexer": "ipython3",
      "version": "3.7.7"
    },
    "colab": {
      "name": "Linear regression.ipynb",
      "provenance": [],
      "include_colab_link": true
    }
  },
  "cells": [
    {
      "cell_type": "markdown",
      "metadata": {
        "id": "view-in-github",
        "colab_type": "text"
      },
      "source": [
        "<a href=\"https://colab.research.google.com/github/gmortuza/machine-learning/blob/master/models/regression/linear_regression/Linear%20regression.ipynb\" target=\"_parent\"><img src=\"https://colab.research.google.com/assets/colab-badge.svg\" alt=\"Open In Colab\"/></a>"
      ]
    },
    {
      "cell_type": "markdown",
      "metadata": {
        "id": "H6fJq5h7md5y"
      },
      "source": [
        "<a href=\"https://colab.research.google.com/github/gmortuza/machine-learning/blob/master/2.%20Machine%20Learning/2.1%20Regression/Linear%20regression.ipynb\" target=\"_blank\">\n",
        "  <img src=\"https://colab.research.google.com/assets/colab-badge.svg\" alt=\"Open In Colab\"/>\n",
        "</a>"
      ]
    },
    {
      "cell_type": "markdown",
      "metadata": {
        "id": "iEMbD2Romd5z"
      },
      "source": [
        "# Linear regression\n",
        "Linear regression is one of the most widely used machine learning model. In this notebook we will see how to use implement linear regression using the python. We will use boston housing price datasets to validate our algorithm. \n",
        "### Hypothesis\n",
        "To perform supervised learning, we must decide how we're going to represent functions/hypothesis $ h $ in a computer. As an initial choice lets say we decide to approximate $ y $ as a linear function of $ x $.\n",
        "$$ y = h_w(x) = w_0 + w_1x_1 + w_2x_2 + ..... $$\n",
        "Here $ w_i $ are the **parameters**(also called **weights**) parameterizing the space of linear functions mapping from $ \\mathcal{X} $ to $ \\mathcal{Y} $. Here, $ x_i $ represent the input feature and $ w_i $ represent how important that particular feature is for the output. For example size of the house might be the most important feature for the price so weight related this feature will be higher.  We can write the equations more compactly:\n",
        "$$ h(x) = \\sum_{i=0}^nw_ix_i = w^Tx $$\n",
        "There are multiple ways of updating the weights. For example gradient descent, using normal equations, newton's method etc.\n",
        "### Cost function\n",
        "We need to set $ w $ in a way that it makes the value of $ h(x) $ close to $ y $, at least for a single training example. We can do that by reducing the mean square loss between $ h(x) $ and $ y $. So we will keep updating the value of $ w $ untill $ (h(x) - y)^2 \\approx 0 $. This is a loss function for a single training example. For $ m $ training example the **Cost function** will be\n",
        "$$ J(w) = \\frac{1}{2}\\sum_{i=0}^m(h_w(x^{(i)}) - y^{(i)})^2 $$"
      ]
    },
    {
      "cell_type": "markdown",
      "metadata": {
        "id": "sXQ8mmGJmd50"
      },
      "source": [
        "## Implement the model"
      ]
    },
    {
      "cell_type": "code",
      "metadata": {
        "id": "YXSTgsBimd50"
      },
      "source": [
        "# Import the required module\n",
        "import numpy as np\n",
        "import pandas as pd\n",
        "from sklearn.datasets import load_boston\n",
        "from sklearn.linear_model import LinearRegression\n",
        "import matplotlib.pyplot as plt\n",
        "from sklearn.model_selection import train_test_split\n",
        "from sklearn import preprocessing\n",
        "from sklearn.metrics import r2_score"
      ],
      "execution_count": null,
      "outputs": []
    },
    {
      "cell_type": "markdown",
      "metadata": {
        "id": "QoAC-zUQmd54"
      },
      "source": [
        "### Gradient descent\n",
        "$$ w_j := w_j - \\alpha \\frac{\\partial{J(w)}}{\\partial{w}} $$\n",
        "$$ \\frac{\\partial{J(w)}}{\\partial{w}} = \\sum_{i=1}^m(h_w(x^{(i)}) - y^{(i)})x_j^{(i)} $$\n",
        "So the update rule for the gradient descent will be\n",
        "$$\n",
        "\\text{Repeat until convergence}\\{ \\\\\n",
        "   \\;\\;\\;\\;\\;\\; w_j := w_j - \\alpha \\sum_{i=1}^m(h_w(x^{(i)}) - y^{(i)})x_j^{(i)} \\\\\n",
        "\\} \n",
        "$$"
      ]
    },
    {
      "cell_type": "code",
      "metadata": {
        "id": "Py_Aw31bmd54"
      },
      "source": [
        "def propagate(w, b, x, y):\n",
        "    m = x.shape[0]\n",
        "    # Calculating cost\n",
        "    h_x = np.dot(x, w) + b\n",
        "    cost = np.sum((h_x - y) ** 2) / 2\n",
        "    cost = np.squeeze(cost)\n",
        "\n",
        "    # BACKWARD PROPAGATION (TO FIND GRAD)\n",
        "    dw = np.dot(x.T, (h_x - y)) / m\n",
        "    db = np.sum(h_x - y) / m\n",
        "\n",
        "    return dw, db, cost"
      ],
      "execution_count": null,
      "outputs": []
    },
    {
      "cell_type": "code",
      "metadata": {
        "id": "wjWs6S_amd57"
      },
      "source": [
        "def optimize(w, b, x, y, learning_rate, num_iteration, verbose):\n",
        "    costs = {}\n",
        "    for i in range(num_iteration):\n",
        "        dw, db, cost = propagate(w, b, x, y)\n",
        "        # Updating parameter\n",
        "        w = w - learning_rate * dw\n",
        "        b = b - learning_rate * db\n",
        "\n",
        "        if i % 100 == 0:\n",
        "            costs[i] = cost\n",
        "            if verbose:\n",
        "                print(\"Cost after iteration \", i, \" is \", cost)\n",
        "    return w, b, costs\n"
      ],
      "execution_count": null,
      "outputs": []
    },
    {
      "cell_type": "markdown",
      "metadata": {
        "id": "tI3YM0ixmd5-"
      },
      "source": [
        "### Normal equation\n",
        "By using the an equation we can find the value of $ w $ that will minimize the $ J(w) $. The equation can be derived by using the property of linear algebra.\n",
        "\n",
        "$$\n",
        "w = (X^TX)^{-1}X^T\\vec{v}\n",
        "$$"
      ]
    },
    {
      "cell_type": "code",
      "metadata": {
        "id": "mybwQ9WLmd5-"
      },
      "source": [
        "def optimize_by_normal_equation(x, y):\n",
        "    return np.dot(np.dot(np.linalg.inv(np.dot(x.T, x)), x.T), y)"
      ],
      "execution_count": null,
      "outputs": []
    },
    {
      "cell_type": "markdown",
      "metadata": {
        "id": "-K1ZUfrjmd6B"
      },
      "source": [
        "### Combine all"
      ]
    },
    {
      "cell_type": "code",
      "metadata": {
        "id": "X-sW2NZvmd6C"
      },
      "source": [
        "def predict(w, b, x):\n",
        "    return np.dot(x, w) + b"
      ],
      "execution_count": null,
      "outputs": []
    },
    {
      "cell_type": "code",
      "metadata": {
        "id": "n67591Ppmd6F"
      },
      "source": [
        "def model(x_train, y_train, x_test, y_test, method=\"gradient_descent\", learning_rate=0.001, num_iteration=5000, verbose=False):\n",
        "    # Resizing the y input\n",
        "    y_train = y_train.reshape(-1, 1)\n",
        "    y_test = y_test.reshape(-1, 1)\n",
        "    # initialize parameters with zeros\n",
        "    w = np.zeros((x_train.shape[1], 1))\n",
        "    b = 0\n",
        "\n",
        "    w, b, costs = optimize(w, b, x_train, y_train, learning_rate, num_iteration, verbose)\n",
        "    if method == \"normal_equation\":\n",
        "        w = optimize_by_normal_equation(x_train, y_train)\n",
        "    y_prediction_train = predict(w, b, x_train)\n",
        "    y_prediction_test = predict(w, b, x_test)\n",
        "    train_r1 = r2_score(y_train, y_prediction_train)\n",
        "    test_r1 = r2_score(y_test, y_prediction_test)\n",
        "    print(\"Train f1 score: \", train_r1)\n",
        "    print(\"Test f1 score: \", test_r1)\n",
        "\n",
        "    return {\"costs\": costs,  \"train_f1\": train_r1, \"test_f1\": test_r1}"
      ],
      "execution_count": null,
      "outputs": []
    },
    {
      "cell_type": "markdown",
      "metadata": {
        "id": "bRRlvQinmd6J"
      },
      "source": [
        "## Test our model"
      ]
    },
    {
      "cell_type": "code",
      "metadata": {
        "id": "whLAZC-Xmd6J",
        "outputId": "e59d3cef-77af-4a7a-892d-b7cd409cd8c0"
      },
      "source": [
        "data = load_boston()\n",
        "X_train, X_test, y_train, y_test = train_test_split(data.data, data.target, test_size=0.33)\n",
        "X_train = preprocessing.scale(X_train)\n",
        "X_test = preprocessing.scale(X_test)\n",
        "history = model(X_train, y_train, X_test, y_test)\n",
        "plt.plot(list(history[\"costs\"].keys()), list(history[\"costs\"].values()))\n",
        "plt.show()"
      ],
      "execution_count": null,
      "outputs": [
        {
          "output_type": "stream",
          "text": [
            "Train f1 score:  0.7426457448245715\n",
            "Test f1 score:  0.6727000429784762\n"
          ],
          "name": "stdout"
        },
        {
          "output_type": "display_data",
          "data": {
            "image/png": "[encoded data removed]",
            "text/plain": [
              "<Figure size 432x288 with 1 Axes>"
            ]
          },
          "metadata": {
            "tags": []
          }
        }
      ]
    },
    {
      "cell_type": "code",
      "metadata": {
        "id": "ih5-MFL3md6N",
        "outputId": "73c783c0-d47b-4c14-d2d4-a0d3e22d3a0e"
      },
      "source": [
        "# Test with normal equation\n",
        "history = model(X_train, y_train, X_test, y_test, method=\"normal_equation\")"
      ],
      "execution_count": null,
      "outputs": [
        {
          "output_type": "stream",
          "text": [
            "Train f1 score:  0.7511784126285308\n",
            "Test f1 score:  0.6762276430987266\n"
          ],
          "name": "stdout"
        }
      ]
    },
    {
      "cell_type": "markdown",
      "metadata": {
        "id": "dGbtEj6bmd6Q"
      },
      "source": [
        "## Compare with sikit learn"
      ]
    },
    {
      "cell_type": "code",
      "metadata": {
        "id": "u3oy4ZiLmd6Q",
        "outputId": "2717a23b-272d-44b6-8e25-bad1d8fbf817"
      },
      "source": [
        "linearRegression = LinearRegression()\n",
        "linearRegression.fit(X_train, y_train)\n",
        "print(\"Train r2 score: \", r2_score(y_train, linearRegression.predict(X_train)))\n",
        "print(\"Test r2 score: \", r2_score(y_test, linearRegression.predict(X_test)))"
      ],
      "execution_count": null,
      "outputs": [
        {
          "output_type": "stream",
          "text": [
            "Train r2 score:  0.75142102292153\n",
            "Test r2 score:  0.6760908223042545\n"
          ],
          "name": "stdout"
        }
      ]
    },
    {
      "cell_type": "markdown",
      "metadata": {
        "id": "LEoy9IGDmd6T"
      },
      "source": [
        "## Locally weighted linear regression\n",
        "By linear regression it is not possible to predict the output of any dataset if the dataset doesn't maintain linear relationship between input and output. Locally weighted linear regression can be a great help in this case. it doesn't consider the entire dataset for prediction. Instead it only use the dataset which are close to the input which need to be predicted. For example, If we forcast the weather of 1st january, 2020 and if we use the linear regression it will take the every month's weather into consideration. But it would be best if we only consider the weather of nearby date of 1st january. \n",
        "![Locally weighted linear regression](https://github.com/gmortuza/machine-learning/blob/master/models/regression/linear_regression/img/locally_weighted.png?raw=1)\n",
        "It is impossible to fit linear line into this dataset but it is possible to fit a non-linear line into this dataset. It is a **non-parametric** learning algorithm . (Algorithms that do not make strong assumptions about the form of the mapping function are called nonparametric machine learning algorithms. By not making assumptions, they are free to learn any functional from the training data.) Linear regression is **parametric** learning algorithm where we learn the mapping function/hypothesis and throws away the training data.\n",
        "\n",
        "In linear regression we fit $ w $ to minimzie:\n",
        "$$ \\sum_{i=1}^m(y^{(i)} - w^Tx^{(i)})^{(i)} $$\n",
        "In locally weighted linear regression we will fit $ w $ to minimize:\n",
        "$$ \\sum_{i=1}^m\\mathcal{l}^{(i)}(y^{(i)} - w^Tx^{(i)})^{(i)} $$\n",
        "$$ \\mathcal{l}^{(i)} = exp(- \\frac{(x^{(i)} - x)^2}{2\\tau^2}) $$\n",
        "Here $ x $ is the input for which we want to predict output. $ \\mathcal{l}^{(i)} \\approx 1 $ if $ |x^{(i)} - x| $ is small. And for training example nearby $ x $, $ |x^{(i)} - x| $ will be small. So those point will be consider for prediciton only. $ \\tau $ is called the **bandwidth** parameter. It's hypyerparameter that will tell the algorithm about how many training example it should consider for prediction."
      ]
    }
  ]
}