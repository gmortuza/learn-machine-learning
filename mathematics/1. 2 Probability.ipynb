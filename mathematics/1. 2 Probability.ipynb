{
 "cells": [
  {
   "cell_type": "markdown",
   "metadata": {},
   "source": [
    "<h3>1.2.1 Joint Probability, Conditional Probability, Marginal Probability</h3>"
   ]
  },
  {
   "cell_type": "markdown",
   "metadata": {},
   "source": [
    "<style>\n",
    ".custom-table td{\n",
    "    border-style:solid;\n",
    "    border:1px solid black!important;\n",
    "}\n",
    "</style>\n",
    "<strong>Independence: </strong> If two events are independentd then probability of happening one event doesn't affect the probability of happening another event. Here the probability of B doesn't affect the probability of A\n",
    "\\begin{equation}\n",
    "P(A|B) = P(A)\n",
    "\\end{equation}\n",
    "Let we perform a survey with 100 people about their choice of programming langauge.\n",
    "<img src=\"probability-distribution.png\">\n",
    "<strong>Categorical variable:</strong> There is two categorical variable here. One is gender(male, female) another is peoples faviroute programming language(C, Java, Python). <br>\n",
    "<strong style=\"color:#fcd303\">Joint probability:</strong> shown in the yellow cell. For example what is the probability that people are male and they like python is $ P(male \\enspace and \\enspace python) =  P(male \\enspace \\cap \\enspace python) = .4 $. If the events are independent then $ P(A \\cap B) = P(A)*P(B) $ <br>\n",
    "<strong style=\"color:#82a88d\">Marginal Probability:</strong> The probability of happening the categorical variable. The probability of people liking python is, $ P(python) = .65 $ Also the probability of people being male is, $ P(male) = .6 $. It is shown with the green color. Summation of the marginal probability of the categorical variable is 1. For example $ P(male) + P(female) = 1 $ <br>\n",
    "<strong>Conditional Probability:</strong> It's the probability of happening one event or another event. For example The probability of people being male or they like python = $ P(male \\cup python) = P(male) + P(python) - P(male \\enspace \\cap \\enspace python) = \\text{Marginal Probaility of male + marginal probability of python + Joint probability of male and python} = .6+.65 - .4 = .85 $"
   ]
  },
  {
   "cell_type": "code",
   "execution_count": null,
   "metadata": {},
   "outputs": [],
   "source": []
  },
  {
   "cell_type": "markdown",
   "metadata": {},
   "source": [
    "<h3> References </h3>"
   ]
  },
  {
   "cell_type": "code",
   "execution_count": null,
   "metadata": {},
   "outputs": [],
   "source": []
  }
 ],
 "metadata": {
  "kernelspec": {
   "display_name": "Python 3",
   "language": "python",
   "name": "python3"
  },
  "language_info": {
   "codemirror_mode": {
    "name": "ipython",
    "version": 3
   },
   "file_extension": ".py",
   "mimetype": "text/x-python",
   "name": "python",
   "nbconvert_exporter": "python",
   "pygments_lexer": "ipython3",
   "version": "3.7.3"
  }
 },
 "nbformat": 4,
 "nbformat_minor": 2
}
